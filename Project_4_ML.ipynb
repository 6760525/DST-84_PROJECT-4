{
  "cells": [
    {
      "cell_type": "markdown",
      "metadata": {
        "id": "view-in-github",
        "colab_type": "text"
      },
      "source": [
        "<a href=\"https://colab.research.google.com/github/6760525/DST-84_PROJECT-4/blob/main/Project_4_ML.ipynb\" target=\"_parent\"><img src=\"https://colab.research.google.com/assets/colab-badge.svg\" alt=\"Open In Colab\"/></a>"
      ]
    },
    {
      "cell_type": "markdown",
      "id": "c353de9a",
      "metadata": {
        "id": "c353de9a"
      },
      "source": [
        "# Проект: классификация"
      ]
    },
    {
      "cell_type": "code",
      "execution_count": null,
      "id": "4a6e54dc",
      "metadata": {
        "id": "4a6e54dc"
      },
      "outputs": [],
      "source": [
        "import pandas as pd\n",
        "import numpy as np\n",
        "import matplotlib.pyplot as plt\n",
        "import seaborn as sns\n",
        "from  sklearn.ensemble import IsolationForest\n",
        "import warnings\n",
        "warnings.filterwarnings('ignore')\n",
        "from sklearn.preprocessing  import LabelEncoder\n",
        "from sklearn import linear_model \n",
        "from sklearn import tree \n",
        "from sklearn import ensemble \n",
        "from sklearn import metrics \n",
        "from sklearn import preprocessing \n",
        "from sklearn.model_selection import train_test_split \n",
        "from sklearn.feature_selection import SelectKBest, f_classif\n",
        "from sklearn.model_selection import GridSearchCV"
      ]
    },
    {
      "cell_type": "markdown",
      "id": "71559b60",
      "metadata": {
        "id": "71559b60"
      },
      "source": [
        "## Часть 1. Знакомство с данными, обработка пропусков и выбросов"
      ]
    },
    {
      "cell_type": "markdown",
      "id": "7c5e31b2",
      "metadata": {
        "id": "7c5e31b2"
      },
      "source": [
        "### Задание 1"
      ]
    },
    {
      "cell_type": "code",
      "execution_count": null,
      "id": "20730cd7",
      "metadata": {
        "id": "20730cd7"
      },
      "outputs": [],
      "source": [
        "df = pd.read_csv('https://lms.skillfactory.ru/assets/courseware/v1/dab91dc74eb3cb684755123d224d262b/asset-v1:SkillFactory+DST-3.0+28FEB2021+type@asset+block/bank_fin.zip', sep = ';')"
      ]
    },
    {
      "cell_type": "code",
      "execution_count": null,
      "id": "ba11dc67",
      "metadata": {
        "colab": {
          "base_uri": "https://localhost:8080/"
        },
        "id": "ba11dc67",
        "outputId": "4c602c8f-d22f-4d34-fb6e-8e3f5feb9ccb"
      },
      "outputs": [
        {
          "output_type": "stream",
          "name": "stdout",
          "text": [
            "<class 'pandas.core.frame.DataFrame'>\n",
            "RangeIndex: 11162 entries, 0 to 11161\n",
            "Data columns (total 17 columns):\n",
            " #   Column     Non-Null Count  Dtype \n",
            "---  ------     --------------  ----- \n",
            " 0   age        11162 non-null  int64 \n",
            " 1   job        11162 non-null  object\n",
            " 2   marital    11162 non-null  object\n",
            " 3   education  11162 non-null  object\n",
            " 4   default    11162 non-null  object\n",
            " 5   balance    11137 non-null  object\n",
            " 6   housing    11162 non-null  object\n",
            " 7   loan       11162 non-null  object\n",
            " 8   contact    11162 non-null  object\n",
            " 9   day        11162 non-null  int64 \n",
            " 10  month      11162 non-null  object\n",
            " 11  duration   11162 non-null  int64 \n",
            " 12  campaign   11162 non-null  int64 \n",
            " 13  pdays      11162 non-null  int64 \n",
            " 14  previous   11162 non-null  int64 \n",
            " 15  poutcome   11162 non-null  object\n",
            " 16  deposit    11162 non-null  object\n",
            "dtypes: int64(6), object(11)\n",
            "memory usage: 1.4+ MB\n"
          ]
        }
      ],
      "source": [
        "# исследуйте данные на предмет пропусков. Где есть пропущенные значения? Сколько их?\n",
        "df.info()"
      ]
    },
    {
      "cell_type": "code",
      "source": [
        "df.head()"
      ],
      "metadata": {
        "colab": {
          "base_uri": "https://localhost:8080/",
          "height": 206
        },
        "id": "Ou2bv3mVpcHP",
        "outputId": "f9c7e4af-31df-4979-f7a3-0c91b2518ddd"
      },
      "id": "Ou2bv3mVpcHP",
      "execution_count": null,
      "outputs": [
        {
          "output_type": "execute_result",
          "data": {
            "text/plain": [
              "   age         job  marital  education default       balance housing loan  \\\n",
              "0   59      admin.  married  secondary      no   2 343,00 $      yes   no   \n",
              "1   56      admin.  married  secondary      no      45,00 $       no   no   \n",
              "2   41  technician  married  secondary      no   1 270,00 $      yes   no   \n",
              "3   55    services  married  secondary      no   2 476,00 $      yes   no   \n",
              "4   54      admin.  married   tertiary      no     184,00 $       no   no   \n",
              "\n",
              "   contact  day month  duration  campaign  pdays  previous poutcome deposit  \n",
              "0  unknown    5   may      1042         1     -1         0  unknown     yes  \n",
              "1  unknown    5   may      1467         1     -1         0  unknown     yes  \n",
              "2  unknown    5   may      1389         1     -1         0  unknown     yes  \n",
              "3  unknown    5   may       579         1     -1         0  unknown     yes  \n",
              "4  unknown    5   may       673         2     -1         0  unknown     yes  "
            ],
            "text/html": [
              "\n",
              "  <div id=\"df-a07e35e2-690b-4731-98af-1e34103a8b3a\">\n",
              "    <div class=\"colab-df-container\">\n",
              "      <div>\n",
              "<style scoped>\n",
              "    .dataframe tbody tr th:only-of-type {\n",
              "        vertical-align: middle;\n",
              "    }\n",
              "\n",
              "    .dataframe tbody tr th {\n",
              "        vertical-align: top;\n",
              "    }\n",
              "\n",
              "    .dataframe thead th {\n",
              "        text-align: right;\n",
              "    }\n",
              "</style>\n",
              "<table border=\"1\" class=\"dataframe\">\n",
              "  <thead>\n",
              "    <tr style=\"text-align: right;\">\n",
              "      <th></th>\n",
              "      <th>age</th>\n",
              "      <th>job</th>\n",
              "      <th>marital</th>\n",
              "      <th>education</th>\n",
              "      <th>default</th>\n",
              "      <th>balance</th>\n",
              "      <th>housing</th>\n",
              "      <th>loan</th>\n",
              "      <th>contact</th>\n",
              "      <th>day</th>\n",
              "      <th>month</th>\n",
              "      <th>duration</th>\n",
              "      <th>campaign</th>\n",
              "      <th>pdays</th>\n",
              "      <th>previous</th>\n",
              "      <th>poutcome</th>\n",
              "      <th>deposit</th>\n",
              "    </tr>\n",
              "  </thead>\n",
              "  <tbody>\n",
              "    <tr>\n",
              "      <th>0</th>\n",
              "      <td>59</td>\n",
              "      <td>admin.</td>\n",
              "      <td>married</td>\n",
              "      <td>secondary</td>\n",
              "      <td>no</td>\n",
              "      <td>2 343,00 $</td>\n",
              "      <td>yes</td>\n",
              "      <td>no</td>\n",
              "      <td>unknown</td>\n",
              "      <td>5</td>\n",
              "      <td>may</td>\n",
              "      <td>1042</td>\n",
              "      <td>1</td>\n",
              "      <td>-1</td>\n",
              "      <td>0</td>\n",
              "      <td>unknown</td>\n",
              "      <td>yes</td>\n",
              "    </tr>\n",
              "    <tr>\n",
              "      <th>1</th>\n",
              "      <td>56</td>\n",
              "      <td>admin.</td>\n",
              "      <td>married</td>\n",
              "      <td>secondary</td>\n",
              "      <td>no</td>\n",
              "      <td>45,00 $</td>\n",
              "      <td>no</td>\n",
              "      <td>no</td>\n",
              "      <td>unknown</td>\n",
              "      <td>5</td>\n",
              "      <td>may</td>\n",
              "      <td>1467</td>\n",
              "      <td>1</td>\n",
              "      <td>-1</td>\n",
              "      <td>0</td>\n",
              "      <td>unknown</td>\n",
              "      <td>yes</td>\n",
              "    </tr>\n",
              "    <tr>\n",
              "      <th>2</th>\n",
              "      <td>41</td>\n",
              "      <td>technician</td>\n",
              "      <td>married</td>\n",
              "      <td>secondary</td>\n",
              "      <td>no</td>\n",
              "      <td>1 270,00 $</td>\n",
              "      <td>yes</td>\n",
              "      <td>no</td>\n",
              "      <td>unknown</td>\n",
              "      <td>5</td>\n",
              "      <td>may</td>\n",
              "      <td>1389</td>\n",
              "      <td>1</td>\n",
              "      <td>-1</td>\n",
              "      <td>0</td>\n",
              "      <td>unknown</td>\n",
              "      <td>yes</td>\n",
              "    </tr>\n",
              "    <tr>\n",
              "      <th>3</th>\n",
              "      <td>55</td>\n",
              "      <td>services</td>\n",
              "      <td>married</td>\n",
              "      <td>secondary</td>\n",
              "      <td>no</td>\n",
              "      <td>2 476,00 $</td>\n",
              "      <td>yes</td>\n",
              "      <td>no</td>\n",
              "      <td>unknown</td>\n",
              "      <td>5</td>\n",
              "      <td>may</td>\n",
              "      <td>579</td>\n",
              "      <td>1</td>\n",
              "      <td>-1</td>\n",
              "      <td>0</td>\n",
              "      <td>unknown</td>\n",
              "      <td>yes</td>\n",
              "    </tr>\n",
              "    <tr>\n",
              "      <th>4</th>\n",
              "      <td>54</td>\n",
              "      <td>admin.</td>\n",
              "      <td>married</td>\n",
              "      <td>tertiary</td>\n",
              "      <td>no</td>\n",
              "      <td>184,00 $</td>\n",
              "      <td>no</td>\n",
              "      <td>no</td>\n",
              "      <td>unknown</td>\n",
              "      <td>5</td>\n",
              "      <td>may</td>\n",
              "      <td>673</td>\n",
              "      <td>2</td>\n",
              "      <td>-1</td>\n",
              "      <td>0</td>\n",
              "      <td>unknown</td>\n",
              "      <td>yes</td>\n",
              "    </tr>\n",
              "  </tbody>\n",
              "</table>\n",
              "</div>\n",
              "      <button class=\"colab-df-convert\" onclick=\"convertToInteractive('df-a07e35e2-690b-4731-98af-1e34103a8b3a')\"\n",
              "              title=\"Convert this dataframe to an interactive table.\"\n",
              "              style=\"display:none;\">\n",
              "        \n",
              "  <svg xmlns=\"http://www.w3.org/2000/svg\" height=\"24px\"viewBox=\"0 0 24 24\"\n",
              "       width=\"24px\">\n",
              "    <path d=\"M0 0h24v24H0V0z\" fill=\"none\"/>\n",
              "    <path d=\"M18.56 5.44l.94 2.06.94-2.06 2.06-.94-2.06-.94-.94-2.06-.94 2.06-2.06.94zm-11 1L8.5 8.5l.94-2.06 2.06-.94-2.06-.94L8.5 2.5l-.94 2.06-2.06.94zm10 10l.94 2.06.94-2.06 2.06-.94-2.06-.94-.94-2.06-.94 2.06-2.06.94z\"/><path d=\"M17.41 7.96l-1.37-1.37c-.4-.4-.92-.59-1.43-.59-.52 0-1.04.2-1.43.59L10.3 9.45l-7.72 7.72c-.78.78-.78 2.05 0 2.83L4 21.41c.39.39.9.59 1.41.59.51 0 1.02-.2 1.41-.59l7.78-7.78 2.81-2.81c.8-.78.8-2.07 0-2.86zM5.41 20L4 18.59l7.72-7.72 1.47 1.35L5.41 20z\"/>\n",
              "  </svg>\n",
              "      </button>\n",
              "      \n",
              "  <style>\n",
              "    .colab-df-container {\n",
              "      display:flex;\n",
              "      flex-wrap:wrap;\n",
              "      gap: 12px;\n",
              "    }\n",
              "\n",
              "    .colab-df-convert {\n",
              "      background-color: #E8F0FE;\n",
              "      border: none;\n",
              "      border-radius: 50%;\n",
              "      cursor: pointer;\n",
              "      display: none;\n",
              "      fill: #1967D2;\n",
              "      height: 32px;\n",
              "      padding: 0 0 0 0;\n",
              "      width: 32px;\n",
              "    }\n",
              "\n",
              "    .colab-df-convert:hover {\n",
              "      background-color: #E2EBFA;\n",
              "      box-shadow: 0px 1px 2px rgba(60, 64, 67, 0.3), 0px 1px 3px 1px rgba(60, 64, 67, 0.15);\n",
              "      fill: #174EA6;\n",
              "    }\n",
              "\n",
              "    [theme=dark] .colab-df-convert {\n",
              "      background-color: #3B4455;\n",
              "      fill: #D2E3FC;\n",
              "    }\n",
              "\n",
              "    [theme=dark] .colab-df-convert:hover {\n",
              "      background-color: #434B5C;\n",
              "      box-shadow: 0px 1px 3px 1px rgba(0, 0, 0, 0.15);\n",
              "      filter: drop-shadow(0px 1px 2px rgba(0, 0, 0, 0.3));\n",
              "      fill: #FFFFFF;\n",
              "    }\n",
              "  </style>\n",
              "\n",
              "      <script>\n",
              "        const buttonEl =\n",
              "          document.querySelector('#df-a07e35e2-690b-4731-98af-1e34103a8b3a button.colab-df-convert');\n",
              "        buttonEl.style.display =\n",
              "          google.colab.kernel.accessAllowed ? 'block' : 'none';\n",
              "\n",
              "        async function convertToInteractive(key) {\n",
              "          const element = document.querySelector('#df-a07e35e2-690b-4731-98af-1e34103a8b3a');\n",
              "          const dataTable =\n",
              "            await google.colab.kernel.invokeFunction('convertToInteractive',\n",
              "                                                     [key], {});\n",
              "          if (!dataTable) return;\n",
              "\n",
              "          const docLinkHtml = 'Like what you see? Visit the ' +\n",
              "            '<a target=\"_blank\" href=https://colab.research.google.com/notebooks/data_table.ipynb>data table notebook</a>'\n",
              "            + ' to learn more about interactive tables.';\n",
              "          element.innerHTML = '';\n",
              "          dataTable['output_type'] = 'display_data';\n",
              "          await google.colab.output.renderOutput(dataTable, element);\n",
              "          const docLink = document.createElement('div');\n",
              "          docLink.innerHTML = docLinkHtml;\n",
              "          element.appendChild(docLink);\n",
              "        }\n",
              "      </script>\n",
              "    </div>\n",
              "  </div>\n",
              "  "
            ]
          },
          "metadata": {},
          "execution_count": 4
        }
      ]
    },
    {
      "cell_type": "code",
      "source": [
        "mn = (None, 0)\n",
        "for col in df.columns:\n",
        "  n = df[col].isnull().sum()\n",
        "  if n > 0: print(f'В колонке {col} отсутствует {n} значений')\n",
        "  if (n > mn[1]): mn = (col, n)\n",
        "\n",
        "if mn[0] != None:\n",
        "  print(f\"\\nБольше всего пропусков ({mn[1]}) в колонке '{mn[0]}'\")\n",
        "else:\n",
        "  print(\"\\nПропусков нет\")"
      ],
      "metadata": {
        "colab": {
          "base_uri": "https://localhost:8080/"
        },
        "id": "7wrJnYctl2o9",
        "outputId": "2cc01a08-df40-4b6e-81a5-142cedf243ea"
      },
      "id": "7wrJnYctl2o9",
      "execution_count": null,
      "outputs": [
        {
          "output_type": "stream",
          "name": "stdout",
          "text": [
            "В колонке balance отсутствует 25 значений\n",
            "\n",
            "Больше всего пропусков (25) в колонке 'balance'\n"
          ]
        }
      ]
    },
    {
      "cell_type": "markdown",
      "source": [
        "### **Ответ:**\n",
        "Пропущенные значения есть в колонке balance, в количестве 25 штук"
      ],
      "metadata": {
        "id": "MqLYlT5dlGON"
      },
      "id": "MqLYlT5dlGON"
    },
    {
      "cell_type": "markdown",
      "id": "6366f059",
      "metadata": {
        "id": "6366f059"
      },
      "source": [
        "### Задание 2"
      ]
    },
    {
      "cell_type": "code",
      "execution_count": null,
      "id": "98ea29d4",
      "metadata": {
        "colab": {
          "base_uri": "https://localhost:8080/"
        },
        "id": "98ea29d4",
        "outputId": "ac3d566b-c4d9-4090-8b45-7ed3d664b570"
      },
      "outputs": [
        {
          "output_type": "execute_result",
          "data": {
            "text/plain": [
              "management       2566\n",
              "blue-collar      1944\n",
              "technician       1823\n",
              "admin.           1334\n",
              "services          923\n",
              "retired           778\n",
              "self-employed     405\n",
              "student           360\n",
              "unemployed        357\n",
              "entrepreneur      328\n",
              "housemaid         274\n",
              "unknown            70\n",
              "Name: job, dtype: int64"
            ]
          },
          "metadata": {},
          "execution_count": 6
        }
      ],
      "source": [
        "# есть ли в признаке job пропущенные значения? Возможно, они обозначены каким-то специальным словом?\n",
        "df.job.value_counts()"
      ]
    },
    {
      "cell_type": "markdown",
      "source": [
        "### **Ответ:**\n",
        "Пропущенные значенияв в признаке job обозначены специальным словом *unknown*"
      ],
      "metadata": {
        "id": "JxBac3jxowvT"
      },
      "id": "JxBac3jxowvT"
    },
    {
      "cell_type": "markdown",
      "id": "8fcf4fcd",
      "metadata": {
        "id": "8fcf4fcd"
      },
      "source": [
        "### Задание 3"
      ]
    },
    {
      "cell_type": "code",
      "execution_count": null,
      "id": "3a01be5e",
      "metadata": {
        "colab": {
          "base_uri": "https://localhost:8080/"
        },
        "id": "3a01be5e",
        "outputId": "b12a058c-7575-4141-9e97-bc00998a240d"
      },
      "outputs": [
        {
          "output_type": "stream",
          "name": "stdout",
          "text": [
            "Среднее значение по преобразованному в корректный вид признаку balance: 1529.129\n"
          ]
        }
      ],
      "source": [
        "# преобразуйте признак balance таким образом, чтобы он корректно считывался, как вещественное число (float)\n",
        "df['balance'] = df['balance'].str.replace(' ', '').str.replace('$', '').str.replace(',', '.').astype('float')\n",
        "print(f'Среднее значение по преобразованному в корректный вид признаку balance: {round(df.balance.mean(), 3)}')"
      ]
    },
    {
      "cell_type": "markdown",
      "source": [
        "### **Ответ:**\n",
        "Среднее значение по преобразованному в корректный вид признаку balance: 1529.129"
      ],
      "metadata": {
        "id": "o-5NDqUT0ZZu"
      },
      "id": "o-5NDqUT0ZZu"
    },
    {
      "cell_type": "markdown",
      "id": "6de63fd7",
      "metadata": {
        "id": "6de63fd7"
      },
      "source": [
        "### Задание 4"
      ]
    },
    {
      "cell_type": "code",
      "execution_count": null,
      "id": "6a684a63",
      "metadata": {
        "colab": {
          "base_uri": "https://localhost:8080/"
        },
        "id": "6a684a63",
        "outputId": "2862867e-24eb-4b09-bcee-97d4836f6177"
      },
      "outputs": [
        {
          "output_type": "stream",
          "name": "stdout",
          "text": [
            "Среднее значение по признаку balance: 1526.936\n",
            "Медианное значение по признаку balance: 550.0\n"
          ]
        }
      ],
      "source": [
        "# обработайте пропуски в признаки balance, заменив их на медианные значения по данному признаку\n",
        "\n",
        "med = df.balance.dropna().median()\n",
        "print(f'Среднее значение по признаку balance: {round(df.balance.fillna(med).mean(), 3)}')\n",
        "print(f'Медианное значение по признаку balance: {round(df.balance.fillna(med).median(), 3)}')"
      ]
    },
    {
      "cell_type": "code",
      "source": [
        "df.balance = df.balance.fillna(med)"
      ],
      "metadata": {
        "id": "S26V2LIMCp1T"
      },
      "id": "S26V2LIMCp1T",
      "execution_count": null,
      "outputs": []
    },
    {
      "cell_type": "markdown",
      "source": [
        "### **Ответ:**\n",
        "Среднее значение по преобразованному в корректный вид признаку balance: 1526.936"
      ],
      "metadata": {
        "id": "-n5cq6hC12lj"
      },
      "id": "-n5cq6hC12lj"
    },
    {
      "cell_type": "markdown",
      "id": "1097ec42",
      "metadata": {
        "id": "1097ec42"
      },
      "source": [
        "### Задание 5"
      ]
    },
    {
      "cell_type": "code",
      "execution_count": null,
      "id": "0fa070a6",
      "metadata": {
        "colab": {
          "base_uri": "https://localhost:8080/"
        },
        "id": "0fa070a6",
        "outputId": "cd83cc3c-2e9f-4419-aae9-cda795707ac8"
      },
      "outputs": [
        {
          "output_type": "execute_result",
          "data": {
            "text/plain": [
              "management       2636\n",
              "blue-collar      1944\n",
              "technician       1823\n",
              "admin.           1334\n",
              "services          923\n",
              "retired           778\n",
              "self-employed     405\n",
              "student           360\n",
              "unemployed        357\n",
              "entrepreneur      328\n",
              "housemaid         274\n",
              "Name: job, dtype: int64"
            ]
          },
          "metadata": {},
          "execution_count": 10
        }
      ],
      "source": [
        "# обработайте пропуски в категориальных признаках: job и education, заменив их на модальные значения\n",
        "job_mode = df.job.mode()[0]\n",
        "df.loc[df.job=='unknown', 'job'] = job_mode\n",
        "df.job.value_counts()"
      ]
    },
    {
      "cell_type": "code",
      "source": [
        "education_mode = df.education.mode()[0]\n",
        "df.loc[df.education=='unknown', 'education'] = education_mode\n",
        "df.education.value_counts()"
      ],
      "metadata": {
        "colab": {
          "base_uri": "https://localhost:8080/"
        },
        "id": "FWHzx4I04BPb",
        "outputId": "1300662d-7ef4-4bf6-cd4c-3027b46fe456"
      },
      "id": "FWHzx4I04BPb",
      "execution_count": null,
      "outputs": [
        {
          "output_type": "execute_result",
          "data": {
            "text/plain": [
              "secondary    5973\n",
              "tertiary     3689\n",
              "primary      1500\n",
              "Name: education, dtype: int64"
            ]
          },
          "metadata": {},
          "execution_count": 11
        }
      ]
    },
    {
      "cell_type": "code",
      "source": [
        "bal = df.loc[(df['job'] == job_mode) & (df['education'] == education_mode)].balance.mean()\n",
        "print(f'После замены пропусков средний доход для клиентов с самой популярной работой и самым популярным уровнем образования составляет {round(bal, 3)}');"
      ],
      "metadata": {
        "colab": {
          "base_uri": "https://localhost:8080/"
        },
        "id": "5R8bps6D4WSU",
        "outputId": "c183f791-0e1d-4e51-acf7-24f6b1d40089"
      },
      "id": "5R8bps6D4WSU",
      "execution_count": null,
      "outputs": [
        {
          "output_type": "stream",
          "name": "stdout",
          "text": [
            "После замены пропусков средний доход для клиентов с самой популярной работой и самым популярным уровнем образования составляет 1598.883\n"
          ]
        }
      ]
    },
    {
      "cell_type": "markdown",
      "source": [
        "### **Ответ:**\n",
        "Cредний доход для клиентов с самой популярной работой и самым популярным уровнем образования после замены пропусков составляет: 1598.883"
      ],
      "metadata": {
        "id": "wAuNurHY4cH9"
      },
      "id": "wAuNurHY4cH9"
    },
    {
      "cell_type": "markdown",
      "id": "02af77c6",
      "metadata": {
        "id": "02af77c6"
      },
      "source": [
        "### Задание 6"
      ]
    },
    {
      "cell_type": "code",
      "execution_count": null,
      "id": "3802cdd9",
      "metadata": {
        "colab": {
          "base_uri": "https://localhost:8080/"
        },
        "id": "3802cdd9",
        "outputId": "0e872f5d-d568-41e5-d9dc-b4a884541eea"
      },
      "outputs": [
        {
          "output_type": "stream",
          "name": "stdout",
          "text": [
            "Границы межквартильного размаха: (-2241, 4063)\n"
          ]
        }
      ],
      "source": [
        "# удалите все выбросы для признака balance\n",
        "# ваш код\n",
        "\n",
        "q1 = df.balance.quantile(0.25)\n",
        "q3 = df.balance.quantile(0.75)\n",
        "iqr = q3 - q1\n",
        "outliers_boundary = ((q1 - 1.5 * iqr).astype('int'), (q3 + 1.5 * iqr).astype('int'))\n",
        "\n",
        "print(f'Границы межквартильного размаха: {outliers_boundary}')\n",
        "# так в задании!\n"
      ]
    },
    {
      "cell_type": "code",
      "source": [
        "df = df[(df.balance >= outliers_boundary[0]) & (df.balance <= outliers_boundary[1])]\n",
        "print(f'После удаления всех выбросов осталось {df.shape[0]} объектов')"
      ],
      "metadata": {
        "colab": {
          "base_uri": "https://localhost:8080/"
        },
        "id": "_jMbM-MwE10v",
        "outputId": "03b0ea9a-d750-4d81-c963-40c0a7ff175c"
      },
      "id": "_jMbM-MwE10v",
      "execution_count": null,
      "outputs": [
        {
          "output_type": "stream",
          "name": "stdout",
          "text": [
            "После удаления всех выбросов осталось 10105 объектов\n"
          ]
        }
      ]
    },
    {
      "cell_type": "markdown",
      "id": "5d22b8cd",
      "metadata": {
        "id": "5d22b8cd"
      },
      "source": [
        "## Часть 2:  Разведывательный анализ"
      ]
    },
    {
      "cell_type": "markdown",
      "id": "21e1f083",
      "metadata": {
        "id": "21e1f083"
      },
      "source": [
        "### Задание 1"
      ]
    },
    {
      "cell_type": "code",
      "execution_count": null,
      "id": "6d0cd3a8",
      "metadata": {
        "colab": {
          "base_uri": "https://localhost:8080/"
        },
        "id": "6d0cd3a8",
        "outputId": "2704586a-a92c-4db2-8c2a-500ff4f52961"
      },
      "outputs": [
        {
          "output_type": "execute_result",
          "data": {
            "text/plain": [
              "no     5424\n",
              "yes    4681\n",
              "Name: deposit, dtype: int64"
            ]
          },
          "metadata": {},
          "execution_count": 15
        }
      ],
      "source": [
        "# изучите соотношение классов в ваших данных на предмет несбалансированности, проиллюстрируйте результат\n",
        "df.deposit.value_counts()"
      ]
    },
    {
      "cell_type": "code",
      "source": [
        "dep = df.deposit.value_counts(normalize=True)\n",
        "fig = plt.figure(figsize = (5, 5))\n",
        "\n",
        "plt.bar(dep.index, dep.values, color=('maroon', 'darkblue'), width = 0.8)\n",
        "plt.xlabel(\"Открыт ли депозит\")\n",
        "plt.ylabel(\"Доля клиентов\")\n",
        "plt.title(\"Сбалансированность классов\")\n",
        "plt.show()"
      ],
      "metadata": {
        "colab": {
          "base_uri": "https://localhost:8080/",
          "height": 350
        },
        "id": "vQgSE-s_GrHJ",
        "outputId": "9ad37bf3-89d1-45a1-e02d-b02dca582fe8"
      },
      "id": "vQgSE-s_GrHJ",
      "execution_count": null,
      "outputs": [
        {
          "output_type": "display_data",
          "data": {
            "text/plain": [
              "<Figure size 360x360 with 1 Axes>"
            ],
            "image/png": "[encoded data removed]"
          },
          "metadata": {
            "needs_background": "light"
          }
        }
      ]
    },
    {
      "cell_type": "markdown",
      "source": [
        "### **Ответ:**\n",
        "Соотношение классов в данных несбалансированно"
      ],
      "metadata": {
        "id": "h0Adw98IItcW"
      },
      "id": "h0Adw98IItcW"
    },
    {
      "cell_type": "markdown",
      "id": "426b1d40",
      "metadata": {
        "id": "426b1d40"
      },
      "source": [
        "### Задание 2"
      ]
    },
    {
      "cell_type": "code",
      "execution_count": null,
      "id": "603cdb3c",
      "metadata": {
        "colab": {
          "base_uri": "https://localhost:8080/",
          "height": 300
        },
        "id": "603cdb3c",
        "outputId": "f12ae862-f06d-4be4-a48f-959f7dedc690"
      },
      "outputs": [
        {
          "output_type": "execute_result",
          "data": {
            "text/plain": [
              "                age       balance           day      duration      campaign  \\\n",
              "count  10105.000000  10105.000000  10105.000000  10105.000000  10105.000000   \n",
              "mean      40.895497    807.653538     15.590302    368.742603      2.517170   \n",
              "std       11.734931    994.151966      8.441510    346.651524      2.707159   \n",
              "min       18.000000  -2049.000000      1.000000      2.000000      1.000000   \n",
              "25%       32.000000     95.000000      8.000000    137.000000      1.000000   \n",
              "50%       38.000000    445.000000     15.000000    252.000000      2.000000   \n",
              "75%       48.000000   1227.000000     22.000000    490.000000      3.000000   \n",
              "max       95.000000   4063.000000     31.000000   3881.000000     43.000000   \n",
              "\n",
              "              pdays      previous  \n",
              "count  10105.000000  10105.000000  \n",
              "mean      51.319644      0.816230  \n",
              "std      109.644179      2.243795  \n",
              "min       -1.000000      0.000000  \n",
              "25%       -1.000000      0.000000  \n",
              "50%       -1.000000      0.000000  \n",
              "75%        2.000000      1.000000  \n",
              "max      854.000000     58.000000  "
            ],
            "text/html": [
              "\n",
              "  <div id=\"df-420abca8-ba00-464b-8a90-9f5caf795dbd\">\n",
              "    <div class=\"colab-df-container\">\n",
              "      <div>\n",
              "<style scoped>\n",
              "    .dataframe tbody tr th:only-of-type {\n",
              "        vertical-align: middle;\n",
              "    }\n",
              "\n",
              "    .dataframe tbody tr th {\n",
              "        vertical-align: top;\n",
              "    }\n",
              "\n",
              "    .dataframe thead th {\n",
              "        text-align: right;\n",
              "    }\n",
              "</style>\n",
              "<table border=\"1\" class=\"dataframe\">\n",
              "  <thead>\n",
              "    <tr style=\"text-align: right;\">\n",
              "      <th></th>\n",
              "      <th>age</th>\n",
              "      <th>balance</th>\n",
              "      <th>day</th>\n",
              "      <th>duration</th>\n",
              "      <th>campaign</th>\n",
              "      <th>pdays</th>\n",
              "      <th>previous</th>\n",
              "    </tr>\n",
              "  </thead>\n",
              "  <tbody>\n",
              "    <tr>\n",
              "      <th>count</th>\n",
              "      <td>10105.000000</td>\n",
              "      <td>10105.000000</td>\n",
              "      <td>10105.000000</td>\n",
              "      <td>10105.000000</td>\n",
              "      <td>10105.000000</td>\n",
              "      <td>10105.000000</td>\n",
              "      <td>10105.000000</td>\n",
              "    </tr>\n",
              "    <tr>\n",
              "      <th>mean</th>\n",
              "      <td>40.895497</td>\n",
              "      <td>807.653538</td>\n",
              "      <td>15.590302</td>\n",
              "      <td>368.742603</td>\n",
              "      <td>2.517170</td>\n",
              "      <td>51.319644</td>\n",
              "      <td>0.816230</td>\n",
              "    </tr>\n",
              "    <tr>\n",
              "      <th>std</th>\n",
              "      <td>11.734931</td>\n",
              "      <td>994.151966</td>\n",
              "      <td>8.441510</td>\n",
              "      <td>346.651524</td>\n",
              "      <td>2.707159</td>\n",
              "      <td>109.644179</td>\n",
              "      <td>2.243795</td>\n",
              "    </tr>\n",
              "    <tr>\n",
              "      <th>min</th>\n",
              "      <td>18.000000</td>\n",
              "      <td>-2049.000000</td>\n",
              "      <td>1.000000</td>\n",
              "      <td>2.000000</td>\n",
              "      <td>1.000000</td>\n",
              "      <td>-1.000000</td>\n",
              "      <td>0.000000</td>\n",
              "    </tr>\n",
              "    <tr>\n",
              "      <th>25%</th>\n",
              "      <td>32.000000</td>\n",
              "      <td>95.000000</td>\n",
              "      <td>8.000000</td>\n",
              "      <td>137.000000</td>\n",
              "      <td>1.000000</td>\n",
              "      <td>-1.000000</td>\n",
              "      <td>0.000000</td>\n",
              "    </tr>\n",
              "    <tr>\n",
              "      <th>50%</th>\n",
              "      <td>38.000000</td>\n",
              "      <td>445.000000</td>\n",
              "      <td>15.000000</td>\n",
              "      <td>252.000000</td>\n",
              "      <td>2.000000</td>\n",
              "      <td>-1.000000</td>\n",
              "      <td>0.000000</td>\n",
              "    </tr>\n",
              "    <tr>\n",
              "      <th>75%</th>\n",
              "      <td>48.000000</td>\n",
              "      <td>1227.000000</td>\n",
              "      <td>22.000000</td>\n",
              "      <td>490.000000</td>\n",
              "      <td>3.000000</td>\n",
              "      <td>2.000000</td>\n",
              "      <td>1.000000</td>\n",
              "    </tr>\n",
              "    <tr>\n",
              "      <th>max</th>\n",
              "      <td>95.000000</td>\n",
              "      <td>4063.000000</td>\n",
              "      <td>31.000000</td>\n",
              "      <td>3881.000000</td>\n",
              "      <td>43.000000</td>\n",
              "      <td>854.000000</td>\n",
              "      <td>58.000000</td>\n",
              "    </tr>\n",
              "  </tbody>\n",
              "</table>\n",
              "</div>\n",
              "      <button class=\"colab-df-convert\" onclick=\"convertToInteractive('df-420abca8-ba00-464b-8a90-9f5caf795dbd')\"\n",
              "              title=\"Convert this dataframe to an interactive table.\"\n",
              "              style=\"display:none;\">\n",
              "        \n",
              "  <svg xmlns=\"http://www.w3.org/2000/svg\" height=\"24px\"viewBox=\"0 0 24 24\"\n",
              "       width=\"24px\">\n",
              "    <path d=\"M0 0h24v24H0V0z\" fill=\"none\"/>\n",
              "    <path d=\"M18.56 5.44l.94 2.06.94-2.06 2.06-.94-2.06-.94-.94-2.06-.94 2.06-2.06.94zm-11 1L8.5 8.5l.94-2.06 2.06-.94-2.06-.94L8.5 2.5l-.94 2.06-2.06.94zm10 10l.94 2.06.94-2.06 2.06-.94-2.06-.94-.94-2.06-.94 2.06-2.06.94z\"/><path d=\"M17.41 7.96l-1.37-1.37c-.4-.4-.92-.59-1.43-.59-.52 0-1.04.2-1.43.59L10.3 9.45l-7.72 7.72c-.78.78-.78 2.05 0 2.83L4 21.41c.39.39.9.59 1.41.59.51 0 1.02-.2 1.41-.59l7.78-7.78 2.81-2.81c.8-.78.8-2.07 0-2.86zM5.41 20L4 18.59l7.72-7.72 1.47 1.35L5.41 20z\"/>\n",
              "  </svg>\n",
              "      </button>\n",
              "      \n",
              "  <style>\n",
              "    .colab-df-container {\n",
              "      display:flex;\n",
              "      flex-wrap:wrap;\n",
              "      gap: 12px;\n",
              "    }\n",
              "\n",
              "    .colab-df-convert {\n",
              "      background-color: #E8F0FE;\n",
              "      border: none;\n",
              "      border-radius: 50%;\n",
              "      cursor: pointer;\n",
              "      display: none;\n",
              "      fill: #1967D2;\n",
              "      height: 32px;\n",
              "      padding: 0 0 0 0;\n",
              "      width: 32px;\n",
              "    }\n",
              "\n",
              "    .colab-df-convert:hover {\n",
              "      background-color: #E2EBFA;\n",
              "      box-shadow: 0px 1px 2px rgba(60, 64, 67, 0.3), 0px 1px 3px 1px rgba(60, 64, 67, 0.15);\n",
              "      fill: #174EA6;\n",
              "    }\n",
              "\n",
              "    [theme=dark] .colab-df-convert {\n",
              "      background-color: #3B4455;\n",
              "      fill: #D2E3FC;\n",
              "    }\n",
              "\n",
              "    [theme=dark] .colab-df-convert:hover {\n",
              "      background-color: #434B5C;\n",
              "      box-shadow: 0px 1px 3px 1px rgba(0, 0, 0, 0.15);\n",
              "      filter: drop-shadow(0px 1px 2px rgba(0, 0, 0, 0.3));\n",
              "      fill: #FFFFFF;\n",
              "    }\n",
              "  </style>\n",
              "\n",
              "      <script>\n",
              "        const buttonEl =\n",
              "          document.querySelector('#df-420abca8-ba00-464b-8a90-9f5caf795dbd button.colab-df-convert');\n",
              "        buttonEl.style.display =\n",
              "          google.colab.kernel.accessAllowed ? 'block' : 'none';\n",
              "\n",
              "        async function convertToInteractive(key) {\n",
              "          const element = document.querySelector('#df-420abca8-ba00-464b-8a90-9f5caf795dbd');\n",
              "          const dataTable =\n",
              "            await google.colab.kernel.invokeFunction('convertToInteractive',\n",
              "                                                     [key], {});\n",
              "          if (!dataTable) return;\n",
              "\n",
              "          const docLinkHtml = 'Like what you see? Visit the ' +\n",
              "            '<a target=\"_blank\" href=https://colab.research.google.com/notebooks/data_table.ipynb>data table notebook</a>'\n",
              "            + ' to learn more about interactive tables.';\n",
              "          element.innerHTML = '';\n",
              "          dataTable['output_type'] = 'display_data';\n",
              "          await google.colab.output.renderOutput(dataTable, element);\n",
              "          const docLink = document.createElement('div');\n",
              "          docLink.innerHTML = docLinkHtml;\n",
              "          element.appendChild(docLink);\n",
              "        }\n",
              "      </script>\n",
              "    </div>\n",
              "  </div>\n",
              "  "
            ]
          },
          "metadata": {},
          "execution_count": 17
        }
      ],
      "source": [
        "#рассчитайте описательные статистики для количественных переменных, проинтерпретируйте результат\n",
        "df.describe()"
      ]
    },
    {
      "cell_type": "markdown",
      "source": [
        "### **Ответ:**\n",
        "* Максимальный возраст клиента банка: 95\n",
        "* Минимальная продолжительность разговора с клиентом банка: 2\n",
        "\n",
        "Дополнительно:\n",
        "* **pdays** (количество пропущенных дней с момента последней маркетинговой кампании до контакта в текущей кампании) - значение -1 может быть ошибкой, или отдельной категорией;\n",
        "* **campaign** (количество контактов с этим клиентом в течение текущей кампании) - возможно имеет смысл преобразовать в категорию;\n",
        "* **day** (день, в который был последний контакт) - объединить с месяцем в дату, возможно добавить день недели"
      ],
      "metadata": {
        "id": "HgRtsqLLJ36U"
      },
      "id": "HgRtsqLLJ36U"
    },
    {
      "cell_type": "markdown",
      "id": "821dc39e",
      "metadata": {
        "id": "821dc39e"
      },
      "source": [
        "### Задание 3"
      ]
    },
    {
      "cell_type": "code",
      "execution_count": null,
      "id": "bf45afc9",
      "metadata": {
        "colab": {
          "base_uri": "https://localhost:8080/",
          "height": 1000
        },
        "id": "bf45afc9",
        "outputId": "aa18633f-07fe-46ad-b24d-4ff3869232c9"
      },
      "outputs": [
        {
          "output_type": "display_data",
          "data": {
            "text/plain": [
              "<Figure size 1440x360 with 1 Axes>"
            ],
            "image/png": "[encoded data removed]"
          },
          "metadata": {
            "needs_background": "light"
          }
        },
        {
          "output_type": "display_data",
          "data": {
            "text/plain": [
              "<Figure size 288x360 with 1 Axes>"
            ],
            "image/png": "[encoded data removed]"
          },
          "metadata": {
            "needs_background": "light"
          }
        },
        {
          "output_type": "display_data",
          "data": {
            "text/plain": [
              "<Figure size 288x360 with 1 Axes>"
            ],
            "image/png": "[encoded data removed]"
          },
          "metadata": {
            "needs_background": "light"
          }
        },
        {
          "output_type": "display_data",
          "data": {
            "text/plain": [
              "<Figure size 144x360 with 1 Axes>"
            ],
            "image/png": "[encoded data removed]"
          },
          "metadata": {
            "needs_background": "light"
          }
        },
        {
          "output_type": "display_data",
          "data": {
            "text/plain": [
              "<Figure size 144x360 with 1 Axes>"
            ],
            "image/png": "[encoded data removed]"
          },
          "metadata": {
            "needs_background": "light"
          }
        },
        {
          "output_type": "display_data",
          "data": {
            "text/plain": [
              "<Figure size 144x360 with 1 Axes>"
            ],
            "image/png": "[encoded data removed]"
          },
          "metadata": {
            "needs_background": "light"
          }
        },
        {
          "output_type": "display_data",
          "data": {
            "text/plain": [
              "<Figure size 288x360 with 1 Axes>"
            ],
            "image/png": "[encoded data removed]"
          },
          "metadata": {
            "needs_background": "light"
          }
        },
        {
          "output_type": "display_data",
          "data": {
            "text/plain": [
              "<Figure size 1584x360 with 1 Axes>"
            ],
            "image/png": "[encoded data removed]"
          },
          "metadata": {
            "needs_background": "light"
          }
        },
        {
          "output_type": "display_data",
          "data": {
            "text/plain": [
              "<Figure size 432x360 with 1 Axes>"
            ],
            "image/png": "[encoded data removed]"
          },
          "metadata": {
            "needs_background": "light"
          }
        },
        {
          "output_type": "display_data",
          "data": {
            "text/plain": [
              "<Figure size 144x360 with 1 Axes>"
            ],
            "image/png": "[encoded data removed]"
          },
          "metadata": {
            "needs_background": "light"
          }
        }
      ],
      "source": [
        "#рассчитайте описательные статистики для категориальных переменных, проинтерпретируйте результат\n",
        "#постройте визуализации, иллюстрирующие результаты\n",
        "\n",
        "for col in df.columns[df.dtypes=='object']:\n",
        "  dep = df[col].value_counts(normalize=True)\n",
        "  fig = plt.figure(figsize = (2 * (len(dep)-1), 5))\n",
        "\n",
        "  plt.bar(dep.index, dep.values)\n",
        "  plt.xlabel(col)\n",
        "  plt.ylabel(\"Доля клиентов\")\n",
        "  plt.title(\"Сбалансированность классов\")\n",
        "\n",
        "plt.show()"
      ]
    },
    {
      "cell_type": "markdown",
      "source": [
        "### **Ответ:**\n",
        "* Макретинговая кампания проводилась 12 месяцев\n",
        "* Наибольшее количество клиентов участвовало в кампании в мае\n",
        "* Среди клиентов банка представлено 11 сфер занятости\n",
        "* Доля клиентов с просроченным кредитом крайне мала\n",
        "* Около половины клиентов имеют кредит на жильё\n",
        "* Доля клиентов с кредитом на личные нужны составляет около 15%\n",
        "* 70% клиентов предпочли использование мобильного телефона для контактов\n",
        "* Результат предыдущей макретинговой кампании для большинства клиентов неизвестен. Доли успеха и провала среди оставшихся сопоставим"
      ],
      "metadata": {
        "id": "QcE9KRllP-zg"
      },
      "id": "QcE9KRllP-zg"
    },
    {
      "cell_type": "markdown",
      "id": "472cff5b",
      "metadata": {
        "id": "472cff5b"
      },
      "source": [
        "### Задание 4"
      ]
    },
    {
      "cell_type": "code",
      "execution_count": null,
      "id": "2d640ce1",
      "metadata": {
        "colab": {
          "base_uri": "https://localhost:8080/",
          "height": 206
        },
        "id": "2d640ce1",
        "outputId": "1a38e87d-f68d-44fe-bf6d-df151ab78e1e"
      },
      "outputs": [
        {
          "output_type": "execute_result",
          "data": {
            "text/plain": [
              "deposit      no    yes\n",
              "poutcome              \n",
              "failure   50.68  49.32\n",
              "other     44.91  55.09\n",
              "success    8.89  91.11\n",
              "unknown   60.26  39.74"
            ],
            "text/html": [
              "\n",
              "  <div id=\"df-304c62de-07ba-469b-b490-dbd0aeb14660\">\n",
              "    <div class=\"colab-df-container\">\n",
              "      <div>\n",
              "<style scoped>\n",
              "    .dataframe tbody tr th:only-of-type {\n",
              "        vertical-align: middle;\n",
              "    }\n",
              "\n",
              "    .dataframe tbody tr th {\n",
              "        vertical-align: top;\n",
              "    }\n",
              "\n",
              "    .dataframe thead th {\n",
              "        text-align: right;\n",
              "    }\n",
              "</style>\n",
              "<table border=\"1\" class=\"dataframe\">\n",
              "  <thead>\n",
              "    <tr style=\"text-align: right;\">\n",
              "      <th>deposit</th>\n",
              "      <th>no</th>\n",
              "      <th>yes</th>\n",
              "    </tr>\n",
              "    <tr>\n",
              "      <th>poutcome</th>\n",
              "      <th></th>\n",
              "      <th></th>\n",
              "    </tr>\n",
              "  </thead>\n",
              "  <tbody>\n",
              "    <tr>\n",
              "      <th>failure</th>\n",
              "      <td>50.68</td>\n",
              "      <td>49.32</td>\n",
              "    </tr>\n",
              "    <tr>\n",
              "      <th>other</th>\n",
              "      <td>44.91</td>\n",
              "      <td>55.09</td>\n",
              "    </tr>\n",
              "    <tr>\n",
              "      <th>success</th>\n",
              "      <td>8.89</td>\n",
              "      <td>91.11</td>\n",
              "    </tr>\n",
              "    <tr>\n",
              "      <th>unknown</th>\n",
              "      <td>60.26</td>\n",
              "      <td>39.74</td>\n",
              "    </tr>\n",
              "  </tbody>\n",
              "</table>\n",
              "</div>\n",
              "      <button class=\"colab-df-convert\" onclick=\"convertToInteractive('df-304c62de-07ba-469b-b490-dbd0aeb14660')\"\n",
              "              title=\"Convert this dataframe to an interactive table.\"\n",
              "              style=\"display:none;\">\n",
              "        \n",
              "  <svg xmlns=\"http://www.w3.org/2000/svg\" height=\"24px\"viewBox=\"0 0 24 24\"\n",
              "       width=\"24px\">\n",
              "    <path d=\"M0 0h24v24H0V0z\" fill=\"none\"/>\n",
              "    <path d=\"M18.56 5.44l.94 2.06.94-2.06 2.06-.94-2.06-.94-.94-2.06-.94 2.06-2.06.94zm-11 1L8.5 8.5l.94-2.06 2.06-.94-2.06-.94L8.5 2.5l-.94 2.06-2.06.94zm10 10l.94 2.06.94-2.06 2.06-.94-2.06-.94-.94-2.06-.94 2.06-2.06.94z\"/><path d=\"M17.41 7.96l-1.37-1.37c-.4-.4-.92-.59-1.43-.59-.52 0-1.04.2-1.43.59L10.3 9.45l-7.72 7.72c-.78.78-.78 2.05 0 2.83L4 21.41c.39.39.9.59 1.41.59.51 0 1.02-.2 1.41-.59l7.78-7.78 2.81-2.81c.8-.78.8-2.07 0-2.86zM5.41 20L4 18.59l7.72-7.72 1.47 1.35L5.41 20z\"/>\n",
              "  </svg>\n",
              "      </button>\n",
              "      \n",
              "  <style>\n",
              "    .colab-df-container {\n",
              "      display:flex;\n",
              "      flex-wrap:wrap;\n",
              "      gap: 12px;\n",
              "    }\n",
              "\n",
              "    .colab-df-convert {\n",
              "      background-color: #E8F0FE;\n",
              "      border: none;\n",
              "      border-radius: 50%;\n",
              "      cursor: pointer;\n",
              "      display: none;\n",
              "      fill: #1967D2;\n",
              "      height: 32px;\n",
              "      padding: 0 0 0 0;\n",
              "      width: 32px;\n",
              "    }\n",
              "\n",
              "    .colab-df-convert:hover {\n",
              "      background-color: #E2EBFA;\n",
              "      box-shadow: 0px 1px 2px rgba(60, 64, 67, 0.3), 0px 1px 3px 1px rgba(60, 64, 67, 0.15);\n",
              "      fill: #174EA6;\n",
              "    }\n",
              "\n",
              "    [theme=dark] .colab-df-convert {\n",
              "      background-color: #3B4455;\n",
              "      fill: #D2E3FC;\n",
              "    }\n",
              "\n",
              "    [theme=dark] .colab-df-convert:hover {\n",
              "      background-color: #434B5C;\n",
              "      box-shadow: 0px 1px 3px 1px rgba(0, 0, 0, 0.15);\n",
              "      filter: drop-shadow(0px 1px 2px rgba(0, 0, 0, 0.3));\n",
              "      fill: #FFFFFF;\n",
              "    }\n",
              "  </style>\n",
              "\n",
              "      <script>\n",
              "        const buttonEl =\n",
              "          document.querySelector('#df-304c62de-07ba-469b-b490-dbd0aeb14660 button.colab-df-convert');\n",
              "        buttonEl.style.display =\n",
              "          google.colab.kernel.accessAllowed ? 'block' : 'none';\n",
              "\n",
              "        async function convertToInteractive(key) {\n",
              "          const element = document.querySelector('#df-304c62de-07ba-469b-b490-dbd0aeb14660');\n",
              "          const dataTable =\n",
              "            await google.colab.kernel.invokeFunction('convertToInteractive',\n",
              "                                                     [key], {});\n",
              "          if (!dataTable) return;\n",
              "\n",
              "          const docLinkHtml = 'Like what you see? Visit the ' +\n",
              "            '<a target=\"_blank\" href=https://colab.research.google.com/notebooks/data_table.ipynb>data table notebook</a>'\n",
              "            + ' to learn more about interactive tables.';\n",
              "          element.innerHTML = '';\n",
              "          dataTable['output_type'] = 'display_data';\n",
              "          await google.colab.output.renderOutput(dataTable, element);\n",
              "          const docLink = document.createElement('div');\n",
              "          docLink.innerHTML = docLinkHtml;\n",
              "          element.appendChild(docLink);\n",
              "        }\n",
              "      </script>\n",
              "    </div>\n",
              "  </div>\n",
              "  "
            ]
          },
          "metadata": {},
          "execution_count": 19
        }
      ],
      "source": [
        "# Узнайте, для какого статуса предыдущей маркетинговой кампании успех в текущей превалирует над количеством неудач.\n",
        "round(100 * df.pivot_table(index='poutcome', columns='deposit', values='balance', aggfunc='count').div(df.groupby('poutcome')['balance'].count(), axis=0), 2)"
      ]
    },
    {
      "cell_type": "markdown",
      "source": [
        "### **Ответ:**\n",
        "\n",
        "В текущей кампании успехов больше, чем неудач у тех клиентов, у которых статус предыдущей *success*"
      ],
      "metadata": {
        "id": "nZk13e4JU3K2"
      },
      "id": "nZk13e4JU3K2"
    },
    {
      "cell_type": "markdown",
      "id": "9c32e3aa",
      "metadata": {
        "id": "9c32e3aa"
      },
      "source": [
        "### Задание 5"
      ]
    },
    {
      "cell_type": "code",
      "execution_count": null,
      "id": "df437ec3",
      "metadata": {
        "colab": {
          "base_uri": "https://localhost:8080/",
          "height": 457
        },
        "id": "df437ec3",
        "outputId": "a212099d-5760-4989-dfe4-d753c4977ad0"
      },
      "outputs": [
        {
          "output_type": "execute_result",
          "data": {
            "text/plain": [
              "deposit     no    yes\n",
              "month                \n",
              "may      67.86  32.14\n",
              "jan      60.82  39.18\n",
              "jul      58.96  41.04\n",
              "nov      58.46  41.54\n",
              "aug      55.96  44.04\n",
              "jun      54.89  45.11\n",
              "feb      45.56  54.44\n",
              "apr      38.19  61.81\n",
              "oct      18.51  81.49\n",
              "sep      16.55  83.45\n",
              "mar      10.13  89.87\n",
              "dec       9.68  90.32"
            ],
            "text/html": [
              "\n",
              "  <div id=\"df-a59ee4f5-618a-4a45-adf4-ea8d2566dde1\">\n",
              "    <div class=\"colab-df-container\">\n",
              "      <div>\n",
              "<style scoped>\n",
              "    .dataframe tbody tr th:only-of-type {\n",
              "        vertical-align: middle;\n",
              "    }\n",
              "\n",
              "    .dataframe tbody tr th {\n",
              "        vertical-align: top;\n",
              "    }\n",
              "\n",
              "    .dataframe thead th {\n",
              "        text-align: right;\n",
              "    }\n",
              "</style>\n",
              "<table border=\"1\" class=\"dataframe\">\n",
              "  <thead>\n",
              "    <tr style=\"text-align: right;\">\n",
              "      <th>deposit</th>\n",
              "      <th>no</th>\n",
              "      <th>yes</th>\n",
              "    </tr>\n",
              "    <tr>\n",
              "      <th>month</th>\n",
              "      <th></th>\n",
              "      <th></th>\n",
              "    </tr>\n",
              "  </thead>\n",
              "  <tbody>\n",
              "    <tr>\n",
              "      <th>may</th>\n",
              "      <td>67.86</td>\n",
              "      <td>32.14</td>\n",
              "    </tr>\n",
              "    <tr>\n",
              "      <th>jan</th>\n",
              "      <td>60.82</td>\n",
              "      <td>39.18</td>\n",
              "    </tr>\n",
              "    <tr>\n",
              "      <th>jul</th>\n",
              "      <td>58.96</td>\n",
              "      <td>41.04</td>\n",
              "    </tr>\n",
              "    <tr>\n",
              "      <th>nov</th>\n",
              "      <td>58.46</td>\n",
              "      <td>41.54</td>\n",
              "    </tr>\n",
              "    <tr>\n",
              "      <th>aug</th>\n",
              "      <td>55.96</td>\n",
              "      <td>44.04</td>\n",
              "    </tr>\n",
              "    <tr>\n",
              "      <th>jun</th>\n",
              "      <td>54.89</td>\n",
              "      <td>45.11</td>\n",
              "    </tr>\n",
              "    <tr>\n",
              "      <th>feb</th>\n",
              "      <td>45.56</td>\n",
              "      <td>54.44</td>\n",
              "    </tr>\n",
              "    <tr>\n",
              "      <th>apr</th>\n",
              "      <td>38.19</td>\n",
              "      <td>61.81</td>\n",
              "    </tr>\n",
              "    <tr>\n",
              "      <th>oct</th>\n",
              "      <td>18.51</td>\n",
              "      <td>81.49</td>\n",
              "    </tr>\n",
              "    <tr>\n",
              "      <th>sep</th>\n",
              "      <td>16.55</td>\n",
              "      <td>83.45</td>\n",
              "    </tr>\n",
              "    <tr>\n",
              "      <th>mar</th>\n",
              "      <td>10.13</td>\n",
              "      <td>89.87</td>\n",
              "    </tr>\n",
              "    <tr>\n",
              "      <th>dec</th>\n",
              "      <td>9.68</td>\n",
              "      <td>90.32</td>\n",
              "    </tr>\n",
              "  </tbody>\n",
              "</table>\n",
              "</div>\n",
              "      <button class=\"colab-df-convert\" onclick=\"convertToInteractive('df-a59ee4f5-618a-4a45-adf4-ea8d2566dde1')\"\n",
              "              title=\"Convert this dataframe to an interactive table.\"\n",
              "              style=\"display:none;\">\n",
              "        \n",
              "  <svg xmlns=\"http://www.w3.org/2000/svg\" height=\"24px\"viewBox=\"0 0 24 24\"\n",
              "       width=\"24px\">\n",
              "    <path d=\"M0 0h24v24H0V0z\" fill=\"none\"/>\n",
              "    <path d=\"M18.56 5.44l.94 2.06.94-2.06 2.06-.94-2.06-.94-.94-2.06-.94 2.06-2.06.94zm-11 1L8.5 8.5l.94-2.06 2.06-.94-2.06-.94L8.5 2.5l-.94 2.06-2.06.94zm10 10l.94 2.06.94-2.06 2.06-.94-2.06-.94-.94-2.06-.94 2.06-2.06.94z\"/><path d=\"M17.41 7.96l-1.37-1.37c-.4-.4-.92-.59-1.43-.59-.52 0-1.04.2-1.43.59L10.3 9.45l-7.72 7.72c-.78.78-.78 2.05 0 2.83L4 21.41c.39.39.9.59 1.41.59.51 0 1.02-.2 1.41-.59l7.78-7.78 2.81-2.81c.8-.78.8-2.07 0-2.86zM5.41 20L4 18.59l7.72-7.72 1.47 1.35L5.41 20z\"/>\n",
              "  </svg>\n",
              "      </button>\n",
              "      \n",
              "  <style>\n",
              "    .colab-df-container {\n",
              "      display:flex;\n",
              "      flex-wrap:wrap;\n",
              "      gap: 12px;\n",
              "    }\n",
              "\n",
              "    .colab-df-convert {\n",
              "      background-color: #E8F0FE;\n",
              "      border: none;\n",
              "      border-radius: 50%;\n",
              "      cursor: pointer;\n",
              "      display: none;\n",
              "      fill: #1967D2;\n",
              "      height: 32px;\n",
              "      padding: 0 0 0 0;\n",
              "      width: 32px;\n",
              "    }\n",
              "\n",
              "    .colab-df-convert:hover {\n",
              "      background-color: #E2EBFA;\n",
              "      box-shadow: 0px 1px 2px rgba(60, 64, 67, 0.3), 0px 1px 3px 1px rgba(60, 64, 67, 0.15);\n",
              "      fill: #174EA6;\n",
              "    }\n",
              "\n",
              "    [theme=dark] .colab-df-convert {\n",
              "      background-color: #3B4455;\n",
              "      fill: #D2E3FC;\n",
              "    }\n",
              "\n",
              "    [theme=dark] .colab-df-convert:hover {\n",
              "      background-color: #434B5C;\n",
              "      box-shadow: 0px 1px 3px 1px rgba(0, 0, 0, 0.15);\n",
              "      filter: drop-shadow(0px 1px 2px rgba(0, 0, 0, 0.3));\n",
              "      fill: #FFFFFF;\n",
              "    }\n",
              "  </style>\n",
              "\n",
              "      <script>\n",
              "        const buttonEl =\n",
              "          document.querySelector('#df-a59ee4f5-618a-4a45-adf4-ea8d2566dde1 button.colab-df-convert');\n",
              "        buttonEl.style.display =\n",
              "          google.colab.kernel.accessAllowed ? 'block' : 'none';\n",
              "\n",
              "        async function convertToInteractive(key) {\n",
              "          const element = document.querySelector('#df-a59ee4f5-618a-4a45-adf4-ea8d2566dde1');\n",
              "          const dataTable =\n",
              "            await google.colab.kernel.invokeFunction('convertToInteractive',\n",
              "                                                     [key], {});\n",
              "          if (!dataTable) return;\n",
              "\n",
              "          const docLinkHtml = 'Like what you see? Visit the ' +\n",
              "            '<a target=\"_blank\" href=https://colab.research.google.com/notebooks/data_table.ipynb>data table notebook</a>'\n",
              "            + ' to learn more about interactive tables.';\n",
              "          element.innerHTML = '';\n",
              "          dataTable['output_type'] = 'display_data';\n",
              "          await google.colab.output.renderOutput(dataTable, element);\n",
              "          const docLink = document.createElement('div');\n",
              "          docLink.innerHTML = docLinkHtml;\n",
              "          element.appendChild(docLink);\n",
              "        }\n",
              "      </script>\n",
              "    </div>\n",
              "  </div>\n",
              "  "
            ]
          },
          "metadata": {},
          "execution_count": 20
        }
      ],
      "source": [
        "# узнайте, в каком месяце чаще всего отказывались от предложения открыть депозит\n",
        "round(100 * df.pivot_table(index='month', columns='deposit', values='balance', aggfunc='count').div(df.groupby('month')['balance'].count(), axis=0), 2).sort_values(by='yes')"
      ]
    },
    {
      "cell_type": "markdown",
      "source": [
        "### **Ответ:**\n",
        "\n",
        "Самый большой процент неудач при взаимодействии в текущей маркетинговой кампании был в мае\n",
        "\n",
        "**NB**: В мае так же было наибольшее абсолютное количество участников, т.е. результат, количество тех, кто открыл счёт по итогу майской кампании может оказаться максимальным"
      ],
      "metadata": {
        "id": "K7XfAWCvWPtC"
      },
      "id": "K7XfAWCvWPtC"
    },
    {
      "cell_type": "markdown",
      "id": "5f20762f",
      "metadata": {
        "id": "5f20762f"
      },
      "source": [
        "### Задание 6"
      ]
    },
    {
      "cell_type": "code",
      "execution_count": null,
      "id": "95d56f1b",
      "metadata": {
        "id": "95d56f1b"
      },
      "outputs": [],
      "source": [
        "# создайте возрастные группы и определите, в каких группах более склонны открывать депозит, чем отказываться от предложения\n",
        "def ag(age):\n",
        "  if (age < 30): return '<30'\n",
        "  elif (age < 40): return '30-40'\n",
        "  elif (age < 50): return '40-50'\n",
        "  elif (age < 60): return '50-60'\n",
        "  else: return '60+'\n",
        "\n",
        "df['age_group'] = df.age.map(ag)"
      ]
    },
    {
      "cell_type": "code",
      "source": [
        "round(100 * df.pivot_table(index='age_group', columns='deposit', values='balance', aggfunc='count').div(df.groupby('age_group')['balance'].count(), axis=0), 2).sort_values(by='no')"
      ],
      "metadata": {
        "colab": {
          "base_uri": "https://localhost:8080/",
          "height": 238
        },
        "id": "YoeV1WuSZdOi",
        "outputId": "a53596b2-9588-4a5a-f18a-076be3340688"
      },
      "id": "YoeV1WuSZdOi",
      "execution_count": null,
      "outputs": [
        {
          "output_type": "execute_result",
          "data": {
            "text/plain": [
              "deposit       no    yes\n",
              "age_group              \n",
              "60+        24.04  75.96\n",
              "<30        40.82  59.18\n",
              "30-40      56.68  43.32\n",
              "50-60      59.49  40.51\n",
              "40-50      60.62  39.38"
            ],
            "text/html": [
              "\n",
              "  <div id=\"df-e3053b03-78dd-42cb-bab6-e91537319fd4\">\n",
              "    <div class=\"colab-df-container\">\n",
              "      <div>\n",
              "<style scoped>\n",
              "    .dataframe tbody tr th:only-of-type {\n",
              "        vertical-align: middle;\n",
              "    }\n",
              "\n",
              "    .dataframe tbody tr th {\n",
              "        vertical-align: top;\n",
              "    }\n",
              "\n",
              "    .dataframe thead th {\n",
              "        text-align: right;\n",
              "    }\n",
              "</style>\n",
              "<table border=\"1\" class=\"dataframe\">\n",
              "  <thead>\n",
              "    <tr style=\"text-align: right;\">\n",
              "      <th>deposit</th>\n",
              "      <th>no</th>\n",
              "      <th>yes</th>\n",
              "    </tr>\n",
              "    <tr>\n",
              "      <th>age_group</th>\n",
              "      <th></th>\n",
              "      <th></th>\n",
              "    </tr>\n",
              "  </thead>\n",
              "  <tbody>\n",
              "    <tr>\n",
              "      <th>60+</th>\n",
              "      <td>24.04</td>\n",
              "      <td>75.96</td>\n",
              "    </tr>\n",
              "    <tr>\n",
              "      <th>&lt;30</th>\n",
              "      <td>40.82</td>\n",
              "      <td>59.18</td>\n",
              "    </tr>\n",
              "    <tr>\n",
              "      <th>30-40</th>\n",
              "      <td>56.68</td>\n",
              "      <td>43.32</td>\n",
              "    </tr>\n",
              "    <tr>\n",
              "      <th>50-60</th>\n",
              "      <td>59.49</td>\n",
              "      <td>40.51</td>\n",
              "    </tr>\n",
              "    <tr>\n",
              "      <th>40-50</th>\n",
              "      <td>60.62</td>\n",
              "      <td>39.38</td>\n",
              "    </tr>\n",
              "  </tbody>\n",
              "</table>\n",
              "</div>\n",
              "      <button class=\"colab-df-convert\" onclick=\"convertToInteractive('df-e3053b03-78dd-42cb-bab6-e91537319fd4')\"\n",
              "              title=\"Convert this dataframe to an interactive table.\"\n",
              "              style=\"display:none;\">\n",
              "        \n",
              "  <svg xmlns=\"http://www.w3.org/2000/svg\" height=\"24px\"viewBox=\"0 0 24 24\"\n",
              "       width=\"24px\">\n",
              "    <path d=\"M0 0h24v24H0V0z\" fill=\"none\"/>\n",
              "    <path d=\"M18.56 5.44l.94 2.06.94-2.06 2.06-.94-2.06-.94-.94-2.06-.94 2.06-2.06.94zm-11 1L8.5 8.5l.94-2.06 2.06-.94-2.06-.94L8.5 2.5l-.94 2.06-2.06.94zm10 10l.94 2.06.94-2.06 2.06-.94-2.06-.94-.94-2.06-.94 2.06-2.06.94z\"/><path d=\"M17.41 7.96l-1.37-1.37c-.4-.4-.92-.59-1.43-.59-.52 0-1.04.2-1.43.59L10.3 9.45l-7.72 7.72c-.78.78-.78 2.05 0 2.83L4 21.41c.39.39.9.59 1.41.59.51 0 1.02-.2 1.41-.59l7.78-7.78 2.81-2.81c.8-.78.8-2.07 0-2.86zM5.41 20L4 18.59l7.72-7.72 1.47 1.35L5.41 20z\"/>\n",
              "  </svg>\n",
              "      </button>\n",
              "      \n",
              "  <style>\n",
              "    .colab-df-container {\n",
              "      display:flex;\n",
              "      flex-wrap:wrap;\n",
              "      gap: 12px;\n",
              "    }\n",
              "\n",
              "    .colab-df-convert {\n",
              "      background-color: #E8F0FE;\n",
              "      border: none;\n",
              "      border-radius: 50%;\n",
              "      cursor: pointer;\n",
              "      display: none;\n",
              "      fill: #1967D2;\n",
              "      height: 32px;\n",
              "      padding: 0 0 0 0;\n",
              "      width: 32px;\n",
              "    }\n",
              "\n",
              "    .colab-df-convert:hover {\n",
              "      background-color: #E2EBFA;\n",
              "      box-shadow: 0px 1px 2px rgba(60, 64, 67, 0.3), 0px 1px 3px 1px rgba(60, 64, 67, 0.15);\n",
              "      fill: #174EA6;\n",
              "    }\n",
              "\n",
              "    [theme=dark] .colab-df-convert {\n",
              "      background-color: #3B4455;\n",
              "      fill: #D2E3FC;\n",
              "    }\n",
              "\n",
              "    [theme=dark] .colab-df-convert:hover {\n",
              "      background-color: #434B5C;\n",
              "      box-shadow: 0px 1px 3px 1px rgba(0, 0, 0, 0.15);\n",
              "      filter: drop-shadow(0px 1px 2px rgba(0, 0, 0, 0.3));\n",
              "      fill: #FFFFFF;\n",
              "    }\n",
              "  </style>\n",
              "\n",
              "      <script>\n",
              "        const buttonEl =\n",
              "          document.querySelector('#df-e3053b03-78dd-42cb-bab6-e91537319fd4 button.colab-df-convert');\n",
              "        buttonEl.style.display =\n",
              "          google.colab.kernel.accessAllowed ? 'block' : 'none';\n",
              "\n",
              "        async function convertToInteractive(key) {\n",
              "          const element = document.querySelector('#df-e3053b03-78dd-42cb-bab6-e91537319fd4');\n",
              "          const dataTable =\n",
              "            await google.colab.kernel.invokeFunction('convertToInteractive',\n",
              "                                                     [key], {});\n",
              "          if (!dataTable) return;\n",
              "\n",
              "          const docLinkHtml = 'Like what you see? Visit the ' +\n",
              "            '<a target=\"_blank\" href=https://colab.research.google.com/notebooks/data_table.ipynb>data table notebook</a>'\n",
              "            + ' to learn more about interactive tables.';\n",
              "          element.innerHTML = '';\n",
              "          dataTable['output_type'] = 'display_data';\n",
              "          await google.colab.output.renderOutput(dataTable, element);\n",
              "          const docLink = document.createElement('div');\n",
              "          docLink.innerHTML = docLinkHtml;\n",
              "          element.appendChild(docLink);\n",
              "        }\n",
              "      </script>\n",
              "    </div>\n",
              "  </div>\n",
              "  "
            ]
          },
          "metadata": {},
          "execution_count": 22
        }
      ]
    },
    {
      "cell_type": "markdown",
      "source": [
        "### **Ответ:**\n",
        "\n",
        "Две возрастные группы, которые более склонны открывать депозит, чем отказываться от открытия депозита в банке после рекламного предложения: до 30 и 60 и старше"
      ],
      "metadata": {
        "id": "pTG57WVMZsu8"
      },
      "id": "pTG57WVMZsu8"
    },
    {
      "cell_type": "markdown",
      "id": "0841c685",
      "metadata": {
        "id": "0841c685"
      },
      "source": [
        "### Задание 7"
      ]
    },
    {
      "cell_type": "code",
      "execution_count": null,
      "id": "0d84a9e1",
      "metadata": {
        "colab": {
          "base_uri": "https://localhost:8080/",
          "height": 328
        },
        "id": "0d84a9e1",
        "outputId": "9d061d48-f241-44b7-b6b7-37244f56b34e"
      },
      "outputs": [
        {
          "output_type": "display_data",
          "data": {
            "text/plain": [
              "<Figure size 432x288 with 1 Axes>"
            ],
            "image/png": "[encoded data removed]"
          },
          "metadata": {
            "needs_background": "light"
          }
        }
      ],
      "source": [
        "# постройте визуализации для открывших и неоткрывших депозит в зависимости от семейного статуса\n",
        "df['coutcome'] = df.deposit.apply(lambda x: 1 if x == 'yes' else 0)\n",
        "df.groupby('marital')['coutcome'].mean().plot(kind='bar', ylabel='Доля открывших депозит', title='Открывшие депозит по семейному статусу');"
      ]
    },
    {
      "cell_type": "code",
      "execution_count": null,
      "id": "16333967",
      "metadata": {
        "colab": {
          "base_uri": "https://localhost:8080/",
          "height": 337
        },
        "id": "16333967",
        "outputId": "3613ada4-ad0b-4fa8-9d19-9f4086d399eb"
      },
      "outputs": [
        {
          "output_type": "display_data",
          "data": {
            "text/plain": [
              "<Figure size 432x288 with 1 Axes>"
            ],
            "image/png": "[encoded data removed]"
          },
          "metadata": {
            "needs_background": "light"
          }
        }
      ],
      "source": [
        "# постройте визуализации для открывших и неоткрывших депозит в зависимости от образования\n",
        "df.groupby('education')['coutcome'].mean().plot(kind='bar', ylabel='Доля открывших депозит', title='Открывшие депозит по уровню образования');"
      ]
    },
    {
      "cell_type": "code",
      "execution_count": null,
      "id": "738224f8",
      "metadata": {
        "colab": {
          "base_uri": "https://localhost:8080/",
          "height": 356
        },
        "id": "738224f8",
        "outputId": "6d713b01-8630-4016-a41a-89b4afd51402"
      },
      "outputs": [
        {
          "output_type": "display_data",
          "data": {
            "text/plain": [
              "<Figure size 432x288 with 1 Axes>"
            ],
            "image/png": "[encoded data removed]"
          },
          "metadata": {
            "needs_background": "light"
          }
        }
      ],
      "source": [
        "# постройте визуализации для открывших и неоткрывших депозит в зависимости от вида профессиональной занятости\n",
        "df.groupby('job')['coutcome'].mean().plot(kind='bar', ylabel='Доля открывших депозит', title='Открывшие депозит по виду профессиональной занятости');"
      ]
    },
    {
      "cell_type": "code",
      "source": [
        "sns.heatmap(df.pivot_table(index='education', columns='marital', values='coutcome', aggfunc='count'), annot=True, fmt=\"n\").set(title=\"Число клиентов\");"
      ],
      "metadata": {
        "colab": {
          "base_uri": "https://localhost:8080/",
          "height": 295
        },
        "id": "QTHbSGYHjLpW",
        "outputId": "89049702-39e1-4af7-fc2b-1ba3b33295d4"
      },
      "id": "QTHbSGYHjLpW",
      "execution_count": null,
      "outputs": [
        {
          "output_type": "display_data",
          "data": {
            "text/plain": [
              "<Figure size 432x288 with 2 Axes>"
            ],
            "image/png": "[encoded data removed]"
          },
          "metadata": {
            "needs_background": "light"
          }
        }
      ]
    },
    {
      "cell_type": "markdown",
      "source": [
        "### **Ответ:**\n",
        "\n",
        "* Наибольшее число клиентов банка занято в сфере *management*\n",
        "* При семейном положении *single* есть тенденция открывать депозит, а не отказываться от его открытия\n",
        "* Самым многочисленным является пересечение категорий *married* и *secondary* - женатые и замужние с уровнем образования *secondary*"
      ],
      "metadata": {
        "id": "Iqpqfj0uagXp"
      },
      "id": "Iqpqfj0uagXp"
    },
    {
      "cell_type": "markdown",
      "id": "a521e204",
      "metadata": {
        "id": "a521e204"
      },
      "source": [
        "### Задание 8"
      ]
    },
    {
      "cell_type": "code",
      "execution_count": null,
      "id": "35ab0413",
      "metadata": {
        "colab": {
          "base_uri": "https://localhost:8080/",
          "height": 175
        },
        "id": "35ab0413",
        "outputId": "f152c0ca-b5a1-4375-f997-f2a21ad66df1"
      },
      "outputs": [
        {
          "output_type": "execute_result",
          "data": {
            "text/plain": [
              "marital    divorced  married  single\n",
              "education                           \n",
              "primary      51.337   34.592  45.055\n",
              "secondary    43.338   41.327  50.372\n",
              "tertiary     51.632   48.515  58.709"
            ],
            "text/html": [
              "\n",
              "  <div id=\"df-ac39d6e5-5a45-4042-9b62-16b9cbd01dfb\">\n",
              "    <div class=\"colab-df-container\">\n",
              "      <div>\n",
              "<style scoped>\n",
              "    .dataframe tbody tr th:only-of-type {\n",
              "        vertical-align: middle;\n",
              "    }\n",
              "\n",
              "    .dataframe tbody tr th {\n",
              "        vertical-align: top;\n",
              "    }\n",
              "\n",
              "    .dataframe thead th {\n",
              "        text-align: right;\n",
              "    }\n",
              "</style>\n",
              "<table border=\"1\" class=\"dataframe\">\n",
              "  <thead>\n",
              "    <tr style=\"text-align: right;\">\n",
              "      <th>marital</th>\n",
              "      <th>divorced</th>\n",
              "      <th>married</th>\n",
              "      <th>single</th>\n",
              "    </tr>\n",
              "    <tr>\n",
              "      <th>education</th>\n",
              "      <th></th>\n",
              "      <th></th>\n",
              "      <th></th>\n",
              "    </tr>\n",
              "  </thead>\n",
              "  <tbody>\n",
              "    <tr>\n",
              "      <th>primary</th>\n",
              "      <td>51.337</td>\n",
              "      <td>34.592</td>\n",
              "      <td>45.055</td>\n",
              "    </tr>\n",
              "    <tr>\n",
              "      <th>secondary</th>\n",
              "      <td>43.338</td>\n",
              "      <td>41.327</td>\n",
              "      <td>50.372</td>\n",
              "    </tr>\n",
              "    <tr>\n",
              "      <th>tertiary</th>\n",
              "      <td>51.632</td>\n",
              "      <td>48.515</td>\n",
              "      <td>58.709</td>\n",
              "    </tr>\n",
              "  </tbody>\n",
              "</table>\n",
              "</div>\n",
              "      <button class=\"colab-df-convert\" onclick=\"convertToInteractive('df-ac39d6e5-5a45-4042-9b62-16b9cbd01dfb')\"\n",
              "              title=\"Convert this dataframe to an interactive table.\"\n",
              "              style=\"display:none;\">\n",
              "        \n",
              "  <svg xmlns=\"http://www.w3.org/2000/svg\" height=\"24px\"viewBox=\"0 0 24 24\"\n",
              "       width=\"24px\">\n",
              "    <path d=\"M0 0h24v24H0V0z\" fill=\"none\"/>\n",
              "    <path d=\"M18.56 5.44l.94 2.06.94-2.06 2.06-.94-2.06-.94-.94-2.06-.94 2.06-2.06.94zm-11 1L8.5 8.5l.94-2.06 2.06-.94-2.06-.94L8.5 2.5l-.94 2.06-2.06.94zm10 10l.94 2.06.94-2.06 2.06-.94-2.06-.94-.94-2.06-.94 2.06-2.06.94z\"/><path d=\"M17.41 7.96l-1.37-1.37c-.4-.4-.92-.59-1.43-.59-.52 0-1.04.2-1.43.59L10.3 9.45l-7.72 7.72c-.78.78-.78 2.05 0 2.83L4 21.41c.39.39.9.59 1.41.59.51 0 1.02-.2 1.41-.59l7.78-7.78 2.81-2.81c.8-.78.8-2.07 0-2.86zM5.41 20L4 18.59l7.72-7.72 1.47 1.35L5.41 20z\"/>\n",
              "  </svg>\n",
              "      </button>\n",
              "      \n",
              "  <style>\n",
              "    .colab-df-container {\n",
              "      display:flex;\n",
              "      flex-wrap:wrap;\n",
              "      gap: 12px;\n",
              "    }\n",
              "\n",
              "    .colab-df-convert {\n",
              "      background-color: #E8F0FE;\n",
              "      border: none;\n",
              "      border-radius: 50%;\n",
              "      cursor: pointer;\n",
              "      display: none;\n",
              "      fill: #1967D2;\n",
              "      height: 32px;\n",
              "      padding: 0 0 0 0;\n",
              "      width: 32px;\n",
              "    }\n",
              "\n",
              "    .colab-df-convert:hover {\n",
              "      background-color: #E2EBFA;\n",
              "      box-shadow: 0px 1px 2px rgba(60, 64, 67, 0.3), 0px 1px 3px 1px rgba(60, 64, 67, 0.15);\n",
              "      fill: #174EA6;\n",
              "    }\n",
              "\n",
              "    [theme=dark] .colab-df-convert {\n",
              "      background-color: #3B4455;\n",
              "      fill: #D2E3FC;\n",
              "    }\n",
              "\n",
              "    [theme=dark] .colab-df-convert:hover {\n",
              "      background-color: #434B5C;\n",
              "      box-shadow: 0px 1px 3px 1px rgba(0, 0, 0, 0.15);\n",
              "      filter: drop-shadow(0px 1px 2px rgba(0, 0, 0, 0.3));\n",
              "      fill: #FFFFFF;\n",
              "    }\n",
              "  </style>\n",
              "\n",
              "      <script>\n",
              "        const buttonEl =\n",
              "          document.querySelector('#df-ac39d6e5-5a45-4042-9b62-16b9cbd01dfb button.colab-df-convert');\n",
              "        buttonEl.style.display =\n",
              "          google.colab.kernel.accessAllowed ? 'block' : 'none';\n",
              "\n",
              "        async function convertToInteractive(key) {\n",
              "          const element = document.querySelector('#df-ac39d6e5-5a45-4042-9b62-16b9cbd01dfb');\n",
              "          const dataTable =\n",
              "            await google.colab.kernel.invokeFunction('convertToInteractive',\n",
              "                                                     [key], {});\n",
              "          if (!dataTable) return;\n",
              "\n",
              "          const docLinkHtml = 'Like what you see? Visit the ' +\n",
              "            '<a target=\"_blank\" href=https://colab.research.google.com/notebooks/data_table.ipynb>data table notebook</a>'\n",
              "            + ' to learn more about interactive tables.';\n",
              "          element.innerHTML = '';\n",
              "          dataTable['output_type'] = 'display_data';\n",
              "          await google.colab.output.renderOutput(dataTable, element);\n",
              "          const docLink = document.createElement('div');\n",
              "          docLink.innerHTML = docLinkHtml;\n",
              "          element.appendChild(docLink);\n",
              "        }\n",
              "      </script>\n",
              "    </div>\n",
              "  </div>\n",
              "  "
            ]
          },
          "metadata": {},
          "execution_count": 27
        }
      ],
      "source": [
        "# постройте сводную таблицу, чтобы определить люди с каким образованием и семейным статусом наиболее многочисленны\n",
        "#(если рассматривать тех, кто открыл депозит)\n",
        "tmp = df.pivot_table(index='education', columns='marital', values='coutcome', aggfunc='mean')\n",
        "round(100 * tmp, 3)"
      ]
    },
    {
      "cell_type": "code",
      "source": [
        "sns.heatmap(tmp, annot=True, fmt=\".0%\").set(title=\"Доля клиентов, открывших депозит\");"
      ],
      "metadata": {
        "colab": {
          "base_uri": "https://localhost:8080/",
          "height": 295
        },
        "id": "aN-lZySLmkI0",
        "outputId": "f330a191-f023-4e33-f0d8-730ae30eb489"
      },
      "id": "aN-lZySLmkI0",
      "execution_count": null,
      "outputs": [
        {
          "output_type": "display_data",
          "data": {
            "text/plain": [
              "<Figure size 432x288 with 2 Axes>"
            ],
            "image/png": "[encoded data removed]"
          },
          "metadata": {
            "needs_background": "light"
          }
        }
      ]
    },
    {
      "cell_type": "code",
      "source": [
        "tmp = df.pivot_table(index='education', columns='marital', values='coutcome', aggfunc='sum')\n",
        "tmp"
      ],
      "metadata": {
        "colab": {
          "base_uri": "https://localhost:8080/",
          "height": 175
        },
        "id": "A93LuRDKoId_",
        "outputId": "b4e75924-f488-4b25-fdda-5d519f98e99f"
      },
      "id": "A93LuRDKoId_",
      "execution_count": null,
      "outputs": [
        {
          "output_type": "execute_result",
          "data": {
            "text/plain": [
              "marital    divorced  married  single\n",
              "education                           \n",
              "primary          96      339      82\n",
              "secondary       283     1289     879\n",
              "tertiary        174      784     755"
            ],
            "text/html": [
              "\n",
              "  <div id=\"df-09347abc-8fa9-4f18-b844-c231d195ca6c\">\n",
              "    <div class=\"colab-df-container\">\n",
              "      <div>\n",
              "<style scoped>\n",
              "    .dataframe tbody tr th:only-of-type {\n",
              "        vertical-align: middle;\n",
              "    }\n",
              "\n",
              "    .dataframe tbody tr th {\n",
              "        vertical-align: top;\n",
              "    }\n",
              "\n",
              "    .dataframe thead th {\n",
              "        text-align: right;\n",
              "    }\n",
              "</style>\n",
              "<table border=\"1\" class=\"dataframe\">\n",
              "  <thead>\n",
              "    <tr style=\"text-align: right;\">\n",
              "      <th>marital</th>\n",
              "      <th>divorced</th>\n",
              "      <th>married</th>\n",
              "      <th>single</th>\n",
              "    </tr>\n",
              "    <tr>\n",
              "      <th>education</th>\n",
              "      <th></th>\n",
              "      <th></th>\n",
              "      <th></th>\n",
              "    </tr>\n",
              "  </thead>\n",
              "  <tbody>\n",
              "    <tr>\n",
              "      <th>primary</th>\n",
              "      <td>96</td>\n",
              "      <td>339</td>\n",
              "      <td>82</td>\n",
              "    </tr>\n",
              "    <tr>\n",
              "      <th>secondary</th>\n",
              "      <td>283</td>\n",
              "      <td>1289</td>\n",
              "      <td>879</td>\n",
              "    </tr>\n",
              "    <tr>\n",
              "      <th>tertiary</th>\n",
              "      <td>174</td>\n",
              "      <td>784</td>\n",
              "      <td>755</td>\n",
              "    </tr>\n",
              "  </tbody>\n",
              "</table>\n",
              "</div>\n",
              "      <button class=\"colab-df-convert\" onclick=\"convertToInteractive('df-09347abc-8fa9-4f18-b844-c231d195ca6c')\"\n",
              "              title=\"Convert this dataframe to an interactive table.\"\n",
              "              style=\"display:none;\">\n",
              "        \n",
              "  <svg xmlns=\"http://www.w3.org/2000/svg\" height=\"24px\"viewBox=\"0 0 24 24\"\n",
              "       width=\"24px\">\n",
              "    <path d=\"M0 0h24v24H0V0z\" fill=\"none\"/>\n",
              "    <path d=\"M18.56 5.44l.94 2.06.94-2.06 2.06-.94-2.06-.94-.94-2.06-.94 2.06-2.06.94zm-11 1L8.5 8.5l.94-2.06 2.06-.94-2.06-.94L8.5 2.5l-.94 2.06-2.06.94zm10 10l.94 2.06.94-2.06 2.06-.94-2.06-.94-.94-2.06-.94 2.06-2.06.94z\"/><path d=\"M17.41 7.96l-1.37-1.37c-.4-.4-.92-.59-1.43-.59-.52 0-1.04.2-1.43.59L10.3 9.45l-7.72 7.72c-.78.78-.78 2.05 0 2.83L4 21.41c.39.39.9.59 1.41.59.51 0 1.02-.2 1.41-.59l7.78-7.78 2.81-2.81c.8-.78.8-2.07 0-2.86zM5.41 20L4 18.59l7.72-7.72 1.47 1.35L5.41 20z\"/>\n",
              "  </svg>\n",
              "      </button>\n",
              "      \n",
              "  <style>\n",
              "    .colab-df-container {\n",
              "      display:flex;\n",
              "      flex-wrap:wrap;\n",
              "      gap: 12px;\n",
              "    }\n",
              "\n",
              "    .colab-df-convert {\n",
              "      background-color: #E8F0FE;\n",
              "      border: none;\n",
              "      border-radius: 50%;\n",
              "      cursor: pointer;\n",
              "      display: none;\n",
              "      fill: #1967D2;\n",
              "      height: 32px;\n",
              "      padding: 0 0 0 0;\n",
              "      width: 32px;\n",
              "    }\n",
              "\n",
              "    .colab-df-convert:hover {\n",
              "      background-color: #E2EBFA;\n",
              "      box-shadow: 0px 1px 2px rgba(60, 64, 67, 0.3), 0px 1px 3px 1px rgba(60, 64, 67, 0.15);\n",
              "      fill: #174EA6;\n",
              "    }\n",
              "\n",
              "    [theme=dark] .colab-df-convert {\n",
              "      background-color: #3B4455;\n",
              "      fill: #D2E3FC;\n",
              "    }\n",
              "\n",
              "    [theme=dark] .colab-df-convert:hover {\n",
              "      background-color: #434B5C;\n",
              "      box-shadow: 0px 1px 3px 1px rgba(0, 0, 0, 0.15);\n",
              "      filter: drop-shadow(0px 1px 2px rgba(0, 0, 0, 0.3));\n",
              "      fill: #FFFFFF;\n",
              "    }\n",
              "  </style>\n",
              "\n",
              "      <script>\n",
              "        const buttonEl =\n",
              "          document.querySelector('#df-09347abc-8fa9-4f18-b844-c231d195ca6c button.colab-df-convert');\n",
              "        buttonEl.style.display =\n",
              "          google.colab.kernel.accessAllowed ? 'block' : 'none';\n",
              "\n",
              "        async function convertToInteractive(key) {\n",
              "          const element = document.querySelector('#df-09347abc-8fa9-4f18-b844-c231d195ca6c');\n",
              "          const dataTable =\n",
              "            await google.colab.kernel.invokeFunction('convertToInteractive',\n",
              "                                                     [key], {});\n",
              "          if (!dataTable) return;\n",
              "\n",
              "          const docLinkHtml = 'Like what you see? Visit the ' +\n",
              "            '<a target=\"_blank\" href=https://colab.research.google.com/notebooks/data_table.ipynb>data table notebook</a>'\n",
              "            + ' to learn more about interactive tables.';\n",
              "          element.innerHTML = '';\n",
              "          dataTable['output_type'] = 'display_data';\n",
              "          await google.colab.output.renderOutput(dataTable, element);\n",
              "          const docLink = document.createElement('div');\n",
              "          docLink.innerHTML = docLinkHtml;\n",
              "          element.appendChild(docLink);\n",
              "        }\n",
              "      </script>\n",
              "    </div>\n",
              "  </div>\n",
              "  "
            ]
          },
          "metadata": {},
          "execution_count": 29
        }
      ]
    },
    {
      "cell_type": "code",
      "source": [
        "sns.heatmap(tmp, annot=True, fmt=\"n\").set(title=\"Число клиентов, открывших депозит\");"
      ],
      "metadata": {
        "colab": {
          "base_uri": "https://localhost:8080/",
          "height": 295
        },
        "id": "ciH3BDZAoEfK",
        "outputId": "d680da38-1677-4c4b-fc31-93bc71d3c8be"
      },
      "id": "ciH3BDZAoEfK",
      "execution_count": null,
      "outputs": [
        {
          "output_type": "display_data",
          "data": {
            "text/plain": [
              "<Figure size 432x288 with 2 Axes>"
            ],
            "image/png": "[encoded data removed]"
          },
          "metadata": {
            "needs_background": "light"
          }
        }
      ]
    },
    {
      "cell_type": "markdown",
      "source": [
        "### **Ответ:**\n",
        "\n",
        "* Среди тех, кто открыл депозит, наибольшая доля в группе одиноких с третьим образованием\n",
        "* Среди тех, кто открыл депозит, наиболее многочисленная группа женатых и замужних с уровнем образования *secondary*"
      ],
      "metadata": {
        "id": "h9_fOSULnY92"
      },
      "id": "h9_fOSULnY92"
    },
    {
      "cell_type": "markdown",
      "id": "dfd805c0",
      "metadata": {
        "id": "dfd805c0"
      },
      "source": [
        "## Часть 3: преобразование данных"
      ]
    },
    {
      "cell_type": "markdown",
      "id": "e44e715b",
      "metadata": {
        "id": "e44e715b"
      },
      "source": [
        "### Задание 1"
      ]
    },
    {
      "cell_type": "code",
      "execution_count": null,
      "id": "1e815773",
      "metadata": {
        "id": "1e815773"
      },
      "outputs": [],
      "source": [
        "# преобразуйте уровни образования\n",
        "df['education'] = LabelEncoder().fit_transform(df.education)"
      ]
    },
    {
      "cell_type": "code",
      "source": [
        "df.education.sum()"
      ],
      "metadata": {
        "colab": {
          "base_uri": "https://localhost:8080/"
        },
        "id": "FBfZS6dlrarh",
        "outputId": "6730a8fc-3bef-43b6-f9cb-80c4ec42b374"
      },
      "id": "FBfZS6dlrarh",
      "execution_count": null,
      "outputs": [
        {
          "output_type": "execute_result",
          "data": {
            "text/plain": [
              "11995"
            ]
          },
          "metadata": {},
          "execution_count": 32
        }
      ]
    },
    {
      "cell_type": "markdown",
      "source": [
        "### **Ответ:**\n",
        "Уровни образования преобразованы"
      ],
      "metadata": {
        "id": "bUhI2bWirJke"
      },
      "id": "bUhI2bWirJke"
    },
    {
      "cell_type": "markdown",
      "id": "8c93e73d",
      "metadata": {
        "id": "8c93e73d"
      },
      "source": [
        "### Задание 2"
      ]
    },
    {
      "cell_type": "code",
      "source": [
        "# создайте возрастные группы и определите, в каких группах более склонны открывать депозит, чем отказываться от предложения\n",
        "def agi(age):\n",
        "  if (age < 30): return 0\n",
        "  elif (age < 40): return 1\n",
        "  elif (age < 50): return 2\n",
        "  elif (age < 60): return 3\n",
        "  else: return 4\n",
        "\n",
        "df['age'] = df.age.map(agi)\n",
        "#df['age_group'] = LabelEncoder().fit_transform(df.age_group)\n",
        "df = df.drop(['coutcome', 'age_group'], axis=1)"
      ],
      "metadata": {
        "id": "e_Iq8a0q88of"
      },
      "id": "e_Iq8a0q88of",
      "execution_count": null,
      "outputs": []
    },
    {
      "cell_type": "code",
      "execution_count": null,
      "id": "626a5762",
      "metadata": {
        "id": "626a5762"
      },
      "outputs": [],
      "source": [
        "# преобразуйте бинарные переменные в представление из нулей и единиц\n",
        "\n",
        "df['deposit'] = LabelEncoder().fit_transform(df.deposit)\n",
        "df['default'] = LabelEncoder().fit_transform(df.default)\n",
        "df['housing'] = LabelEncoder().fit_transform(df.housing)\n",
        "df['loan'] = LabelEncoder().fit_transform(df.loan)"
      ]
    },
    {
      "cell_type": "code",
      "source": [
        "print(f'std(deposit) = {round(df.deposit.std(), 3)}')"
      ],
      "metadata": {
        "colab": {
          "base_uri": "https://localhost:8080/"
        },
        "id": "CeIidJRktJrj",
        "outputId": "e5dd16eb-1cf9-42a3-fafd-b777a27081af"
      },
      "id": "CeIidJRktJrj",
      "execution_count": null,
      "outputs": [
        {
          "output_type": "stream",
          "name": "stdout",
          "text": [
            "std(deposit) = 0.499\n"
          ]
        }
      ]
    },
    {
      "cell_type": "code",
      "source": [
        "round(df[['default','housing','loan']].mean(),3)"
      ],
      "metadata": {
        "colab": {
          "base_uri": "https://localhost:8080/"
        },
        "id": "aQn_axTbucaW",
        "outputId": "9be0ef99-d221-4505-b961-eedd6b380b6c"
      },
      "id": "aQn_axTbucaW",
      "execution_count": null,
      "outputs": [
        {
          "output_type": "execute_result",
          "data": {
            "text/plain": [
              "default    0.016\n",
              "housing    0.481\n",
              "loan       0.138\n",
              "dtype: float64"
            ]
          },
          "metadata": {},
          "execution_count": 36
        }
      ]
    },
    {
      "cell_type": "code",
      "source": [
        "round(df[['default','housing','loan']].mean().sum(),3)"
      ],
      "metadata": {
        "colab": {
          "base_uri": "https://localhost:8080/"
        },
        "id": "F15Qj49c-8Hz",
        "outputId": "4c017cc3-ea31-4e90-c790-16fb3f5c0165"
      },
      "id": "F15Qj49c-8Hz",
      "execution_count": null,
      "outputs": [
        {
          "output_type": "execute_result",
          "data": {
            "text/plain": [
              "0.635"
            ]
          },
          "metadata": {},
          "execution_count": 37
        }
      ]
    },
    {
      "cell_type": "code",
      "source": [
        "xx = pd.read_csv('https://lms.skillfactory.ru/assets/courseware/v1/dab91dc74eb3cb684755123d224d262b/asset-v1:SkillFactory+DST-3.0+28FEB2021+type@asset+block/bank_fin.zip', sep = ';')\n",
        "\n",
        "round(sum([xx.default.apply(lambda x: 1 if x == 'yes' else 0).mean(),\n",
        "           xx.housing.apply(lambda x: 1 if x == 'yes' else 0).mean(),\n",
        "           xx.loan.apply(lambda x: 1 if x == 'yes' else 0).mean()]), 3)"
      ],
      "metadata": {
        "colab": {
          "base_uri": "https://localhost:8080/"
        },
        "id": "ySaPybNtvY9j",
        "outputId": "b2fe7d16-201b-4456-cbaa-7a32f355c108"
      },
      "id": "ySaPybNtvY9j",
      "execution_count": null,
      "outputs": [
        {
          "output_type": "execute_result",
          "data": {
            "text/plain": [
              "0.619"
            ]
          },
          "metadata": {},
          "execution_count": 38
        }
      ]
    },
    {
      "cell_type": "markdown",
      "source": [
        "### **Ответ:**\n",
        "* Бинарные признаки default, loan, housing и deposit, а также порядковая переменная для возраста преобразованы\n",
        "* Стандартное отклонение по преобразованной в корректный вид целевой переменной deposit составляет 0.499\n",
        "* Сумма трёх средних арифметических каждой из получившихся переменных равны 0.635 для данных очищенных от выбросов, для начального датасета - 0.619"
      ],
      "metadata": {
        "id": "VCKzqYgGsYyC"
      },
      "id": "VCKzqYgGsYyC"
    },
    {
      "cell_type": "markdown",
      "id": "c40dc02a",
      "metadata": {
        "id": "c40dc02a"
      },
      "source": [
        "### Задание 3"
      ]
    },
    {
      "cell_type": "code",
      "execution_count": null,
      "id": "b996883f",
      "metadata": {
        "colab": {
          "base_uri": "https://localhost:8080/"
        },
        "id": "b996883f",
        "outputId": "28d1b0e7-3496-486d-9b31-1df4a86d18c9"
      },
      "outputs": [
        {
          "output_type": "execute_result",
          "data": {
            "text/plain": [
              "(10105, 45)"
            ]
          },
          "metadata": {},
          "execution_count": 39
        }
      ],
      "source": [
        "# создайте дамми-переменные\n",
        "df = pd.get_dummies(df, columns=['job', 'marital', 'contact', 'month', 'poutcome']) #, 'age', 'education'])\n",
        "df.shape"
      ]
    },
    {
      "cell_type": "markdown",
      "source": [
        "### **Ответ:**\n",
        "* Не понимаю, откуда в ответе взялись 50 переменных"
      ],
      "metadata": {
        "id": "H77AylOg3n0a"
      },
      "id": "H77AylOg3n0a"
    },
    {
      "cell_type": "markdown",
      "id": "9a23e318",
      "metadata": {
        "id": "9a23e318"
      },
      "source": [
        "### Задание 4"
      ]
    },
    {
      "cell_type": "code",
      "execution_count": null,
      "id": "1c884c1a",
      "metadata": {
        "colab": {
          "base_uri": "https://localhost:8080/"
        },
        "id": "1c884c1a",
        "outputId": "a4166ca6-0b36-4c77-925f-652809fed01a"
      },
      "outputs": [
        {
          "output_type": "execute_result",
          "data": {
            "text/plain": [
              "contact_unknown    -0.249294\n",
              "poutcome_unknown   -0.228300\n",
              "housing            -0.200290\n",
              "Name: deposit, dtype: float64"
            ]
          },
          "metadata": {},
          "execution_count": 40
        }
      ],
      "source": [
        "# постройте корреляционную матрицу и оцените данные на предмет наличия мультиколлинеарности\n",
        "df.corr()['deposit'].sort_values()[:3]"
      ]
    },
    {
      "cell_type": "code",
      "source": [
        "c = df.corr().stack()\n",
        "c[(abs(c)>=0.9) & (abs(c)<1.0)]"
      ],
      "metadata": {
        "colab": {
          "base_uri": "https://localhost:8080/"
        },
        "id": "vNSREAdp4Nvd",
        "outputId": "6b7a133e-d43c-4036-ef82-7a22897b7257"
      },
      "id": "vNSREAdp4Nvd",
      "execution_count": null,
      "outputs": [
        {
          "output_type": "execute_result",
          "data": {
            "text/plain": [
              "Series([], dtype: float64)"
            ]
          },
          "metadata": {},
          "execution_count": 41
        }
      ]
    },
    {
      "cell_type": "markdown",
      "source": [
        "### **Ответ:**\n",
        "* Признаки, в наибольшей степени коррелирующие с целевой переменной, по убыванию силы линейной взаимосвязи:\n",
        "  * contact_unknown\n",
        "  * poutcome_unknown\n",
        "  * housing\n",
        "* Мультиколлинеарности (коэффициент корреляцию не менее 0.9) нет"
      ],
      "metadata": {
        "id": "HSGKWqYo35gN"
      },
      "id": "HSGKWqYo35gN"
    },
    {
      "cell_type": "markdown",
      "id": "b5b4c1a5",
      "metadata": {
        "id": "b5b4c1a5"
      },
      "source": [
        "### Задание 5"
      ]
    },
    {
      "cell_type": "code",
      "execution_count": null,
      "id": "79f3e432",
      "metadata": {
        "colab": {
          "base_uri": "https://localhost:8080/"
        },
        "id": "79f3e432",
        "outputId": "22e4b662-95ba-4e2f-beeb-563388cde8fc"
      },
      "outputs": [
        {
          "output_type": "execute_result",
          "data": {
            "text/plain": [
              "(3335, 44)"
            ]
          },
          "metadata": {},
          "execution_count": 42
        }
      ],
      "source": [
        "X = df.drop(['deposit'], axis=1)\n",
        "y = df['deposit']\n",
        " \n",
        "X_train, X_test, y_train, y_test = train_test_split(X, y, stratify=y, random_state = 42, test_size = 0.33)\n",
        "\n",
        "X_test.shape"
      ]
    },
    {
      "cell_type": "markdown",
      "source": [
        "### **Ответ:**\n",
        "* Размер тестовой выборки - 3335"
      ],
      "metadata": {
        "id": "9wUoOrmD5Xa5"
      },
      "id": "9wUoOrmD5Xa5"
    },
    {
      "cell_type": "code",
      "execution_count": null,
      "id": "e3a097a4",
      "metadata": {
        "colab": {
          "base_uri": "https://localhost:8080/"
        },
        "id": "e3a097a4",
        "outputId": "2885e770-c783-4303-8690-bd9515b06040"
      },
      "outputs": [
        {
          "output_type": "stream",
          "name": "stdout",
          "text": [
            "y_test mean: 0.46\n"
          ]
        }
      ],
      "source": [
        "# рассчитайте необходимые показатели\n",
        "print(f'y_test mean: {round(y_test.mean(), 2)}')"
      ]
    },
    {
      "cell_type": "markdown",
      "source": [
        "### **Ответ:**\n",
        "Среднее значение целевой переменной на тестовой выборке 0.46"
      ],
      "metadata": {
        "id": "vag2tu1k519E"
      },
      "id": "vag2tu1k519E"
    },
    {
      "cell_type": "markdown",
      "id": "2e381a4f",
      "metadata": {
        "id": "2e381a4f"
      },
      "source": [
        "### Задание 6"
      ]
    },
    {
      "cell_type": "code",
      "execution_count": null,
      "id": "0f6e03e0",
      "metadata": {
        "colab": {
          "base_uri": "https://localhost:8080/"
        },
        "id": "0f6e03e0",
        "outputId": "6c8f9a94-2e4f-422e-cbb6-ad037125da40"
      },
      "outputs": [
        {
          "output_type": "execute_result",
          "data": {
            "text/plain": [
              "['balance',\n",
              " 'housing',\n",
              " 'loan',\n",
              " 'duration',\n",
              " 'campaign',\n",
              " 'pdays',\n",
              " 'previous',\n",
              " 'contact_cellular',\n",
              " 'contact_unknown',\n",
              " 'month_mar',\n",
              " 'month_may',\n",
              " 'month_oct',\n",
              " 'month_sep',\n",
              " 'poutcome_success',\n",
              " 'poutcome_unknown']"
            ]
          },
          "metadata": {},
          "execution_count": 44
        }
      ],
      "source": [
        "# с помощью SelectKBest отберите 15 наиболее подходящих признаков\n",
        "list(SelectKBest(score_func = f_classif, k=15).fit(X_train, y_train).get_feature_names_out())"
      ]
    },
    {
      "cell_type": "markdown",
      "id": "60132ef3",
      "metadata": {
        "id": "60132ef3"
      },
      "source": [
        "### Задание 7"
      ]
    },
    {
      "cell_type": "code",
      "execution_count": null,
      "id": "e91b06f3",
      "metadata": {
        "id": "e91b06f3"
      },
      "outputs": [],
      "source": [
        "# нормализуйте данные с помощью minmaxsxaler\n",
        "\n",
        "scaler = preprocessing.MinMaxScaler()\n",
        "scaler.fit(X_train)\n",
        "X_train_scaled = scaler.transform(X_train)\n",
        "X_test_scaled = scaler.transform(X_test)"
      ]
    },
    {
      "cell_type": "code",
      "source": [
        "s = pd.DataFrame(X_test_scaled, columns=X.columns)\n",
        "s.mean()"
      ],
      "metadata": {
        "colab": {
          "base_uri": "https://localhost:8080/"
        },
        "id": "UyPohQZQFAK6",
        "outputId": "0661cc38-74b5-4466-e82c-dbce9a582bfe"
      },
      "id": "UyPohQZQFAK6",
      "execution_count": null,
      "outputs": [
        {
          "output_type": "execute_result",
          "data": {
            "text/plain": [
              "age                  0.408696\n",
              "education            0.596552\n",
              "default              0.016792\n",
              "balance              0.468237\n",
              "housing              0.484858\n",
              "loan                 0.131934\n",
              "day                  0.489765\n",
              "duration             0.093294\n",
              "campaign             0.036153\n",
              "pdays                0.062139\n",
              "previous             0.014501\n",
              "job_admin.           0.119340\n",
              "job_blue-collar      0.168516\n",
              "job_entrepreneur     0.027586\n",
              "job_housemaid        0.026087\n",
              "job_management       0.232984\n",
              "job_retired          0.071964\n",
              "job_self-employed    0.032984\n",
              "job_services         0.082459\n",
              "job_student          0.032384\n",
              "job_technician       0.176612\n",
              "job_unemployed       0.029085\n",
              "marital_divorced     0.115142\n",
              "marital_married      0.564018\n",
              "marital_single       0.320840\n",
              "contact_cellular     0.718741\n",
              "contact_telephone    0.071964\n",
              "contact_unknown      0.209295\n",
              "month_apr            0.082159\n",
              "month_aug            0.136732\n",
              "month_dec            0.012594\n",
              "month_feb            0.068966\n",
              "month_jan            0.033583\n",
              "month_jul            0.140030\n",
              "month_jun            0.108846\n",
              "month_mar            0.023688\n",
              "month_may            0.251574\n",
              "month_nov            0.080960\n",
              "month_oct            0.031484\n",
              "month_sep            0.029385\n",
              "poutcome_failure     0.111244\n",
              "poutcome_other       0.047376\n",
              "poutcome_success     0.097451\n",
              "poutcome_unknown     0.743928\n",
              "dtype: float64"
            ]
          },
          "metadata": {},
          "execution_count": 46
        }
      ]
    },
    {
      "cell_type": "code",
      "source": [
        ""
      ],
      "metadata": {
        "id": "p-WXgcaEHSyn"
      },
      "id": "p-WXgcaEHSyn",
      "execution_count": null,
      "outputs": []
    },
    {
      "cell_type": "markdown",
      "id": "0894c632",
      "metadata": {
        "id": "0894c632"
      },
      "source": [
        "# Часть 4: Решение задачи классификации: логистическая регрессия и решающие деревья"
      ]
    },
    {
      "cell_type": "markdown",
      "id": "41b8ff06",
      "metadata": {
        "id": "41b8ff06"
      },
      "source": [
        "### Задание 1"
      ]
    },
    {
      "cell_type": "code",
      "execution_count": null,
      "id": "8acc0166",
      "metadata": {
        "colab": {
          "base_uri": "https://localhost:8080/"
        },
        "id": "8acc0166",
        "outputId": "fc00d9af-087d-4eb8-c39d-11f07e0ffd5b"
      },
      "outputs": [
        {
          "output_type": "stream",
          "name": "stdout",
          "text": [
            "Acciracy train score: 0.838\n",
            "Acciracy test score: 0.816\n"
          ]
        }
      ],
      "source": [
        "# обучите логистическую регрессию и рассчитайте метрики качества\n",
        "lr = linear_model.LogisticRegression(random_state=42, solver='sag', max_iter=1000)\n",
        "\n",
        "lr.fit(X_train_scaled, y_train)\n",
        "y_train_pred = lr.predict(X_train_scaled)\n",
        "y_test_pred = lr.predict(X_test_scaled)\n",
        "print('Acciracy train score: {:.3f}'.format(round(metrics.accuracy_score(y_train, y_train_pred),3)))\n",
        "print('Acciracy test score: {:.3f}'.format(round(metrics.accuracy_score(y_test, y_test_pred),3)))"
      ]
    },
    {
      "cell_type": "markdown",
      "id": "29b7e0ba",
      "metadata": {
        "id": "29b7e0ba"
      },
      "source": [
        "### Задание 2"
      ]
    },
    {
      "cell_type": "code",
      "execution_count": null,
      "id": "c91a588b",
      "metadata": {
        "colab": {
          "base_uri": "https://localhost:8080/"
        },
        "id": "c91a588b",
        "outputId": "3a30b678-947d-4ebb-ca47-c056b4aa0813"
      },
      "outputs": [
        {
          "output_type": "stream",
          "name": "stdout",
          "text": [
            "Acciracy train score: 1.000\n",
            "Acciracy test score: 0.787\n"
          ]
        }
      ],
      "source": [
        "# обучите решающие деревья, настройте максимальную глубину\n",
        "dt = tree.DecisionTreeClassifier(criterion='entropy',\n",
        "                                 random_state=42)\n",
        "\n",
        "dt.fit(X_train_scaled, y_train)\n",
        "y_train_pred = dt.predict(X_train_scaled)\n",
        "y_test_pred = dt.predict(X_test_scaled)\n",
        "print('Acciracy train score: {:.3f}'.format(round(metrics.accuracy_score(y_train, y_train_pred),3)))\n",
        "print('Acciracy test score: {:.3f}'.format(round(metrics.accuracy_score(y_test, y_test_pred),3)))"
      ]
    },
    {
      "cell_type": "code",
      "source": [
        "x = []\n",
        "for md in range(1, 10):\n",
        "  dt = tree.DecisionTreeClassifier(criterion='entropy', max_depth=md, random_state=42)\n",
        "  dt.fit(X_train_scaled, y_train)\n",
        "  y_train_pred = dt.predict(X_train_scaled)\n",
        "  y_test_pred = dt.predict(X_test_scaled)\n",
        "  x.append((md, (metrics.accuracy_score(y_test, y_test_pred), metrics.accuracy_score(y_train, y_train_pred))))\n"
      ],
      "metadata": {
        "id": "0B6urmgvNUsP"
      },
      "id": "0B6urmgvNUsP",
      "execution_count": null,
      "outputs": []
    },
    {
      "cell_type": "code",
      "source": [
        "xx=pd.DataFrame(index=[i[0] for i in x], data={'test': [i[1][0] for i in x], 'train': [i[1][1] for i in x]})\n",
        "xx.plot.line(grid=True, figsize=(12, 6));"
      ],
      "metadata": {
        "colab": {
          "base_uri": "https://localhost:8080/",
          "height": 374
        },
        "id": "pZfLv8miN5tp",
        "outputId": "a6dea643-6588-4a83-90f9-da24c72c47da"
      },
      "id": "pZfLv8miN5tp",
      "execution_count": null,
      "outputs": [
        {
          "output_type": "display_data",
          "data": {
            "text/plain": [
              "<Figure size 864x432 with 1 Axes>"
            ],
            "image/png": "[encoded data removed]"
          },
          "metadata": {
            "needs_background": "light"
          }
        }
      ]
    },
    {
      "cell_type": "code",
      "source": [
        "xx.loc[6]"
      ],
      "metadata": {
        "colab": {
          "base_uri": "https://localhost:8080/"
        },
        "id": "MhB_vHsFP_gu",
        "outputId": "de7cbe7e-e5af-4f17-8a38-fdaa8436cd77"
      },
      "id": "MhB_vHsFP_gu",
      "execution_count": null,
      "outputs": [
        {
          "output_type": "execute_result",
          "data": {
            "text/plain": [
              "test     0.797001\n",
              "train    0.813885\n",
              "Name: 6, dtype: float64"
            ]
          },
          "metadata": {},
          "execution_count": 51
        }
      ]
    },
    {
      "cell_type": "code",
      "source": [
        "dt = tree.DecisionTreeClassifier(criterion='entropy', max_depth=6, random_state=42)\n",
        "dt.fit(X_train_scaled, y_train)\n",
        "y_train_pred = dt.predict(X_train_scaled)\n",
        "y_test_pred = dt.predict(X_test_scaled)\n",
        "\n",
        "print('Acciracy train score: {:.3f}'.format(round(metrics.accuracy_score(y_train, y_train_pred),3)))\n",
        "print('Acciracy test score: {:.3f}'.format(round(metrics.accuracy_score(y_test, y_test_pred),3)))"
      ],
      "metadata": {
        "colab": {
          "base_uri": "https://localhost:8080/"
        },
        "id": "8jEzK4JeSrdE",
        "outputId": "219d9310-25ee-4a37-e51d-1ccc33c08db6"
      },
      "id": "8jEzK4JeSrdE",
      "execution_count": null,
      "outputs": [
        {
          "output_type": "stream",
          "name": "stdout",
          "text": [
            "Acciracy train score: 0.814\n",
            "Acciracy test score: 0.797\n"
          ]
        }
      ]
    },
    {
      "cell_type": "markdown",
      "id": "fe823c18",
      "metadata": {
        "id": "fe823c18"
      },
      "source": [
        "### Задание 3"
      ]
    },
    {
      "cell_type": "code",
      "execution_count": null,
      "id": "63574943",
      "metadata": {
        "colab": {
          "base_uri": "https://localhost:8080/"
        },
        "id": "63574943",
        "outputId": "87f6ace8-9ba0-4c8d-b40e-cd9129e462e5"
      },
      "outputs": [
        {
          "output_type": "stream",
          "name": "stdout",
          "text": [
            "CPU times: user 1.71 s, sys: 20.4 ms, total: 1.73 s\n",
            "Wall time: 3.04 s\n",
            "f1_score на тестовой выборке: 0.81\n",
            "Наилучшие значения гиперпараметров: {'max_depth': 7, 'min_samples_split': 2}\n"
          ]
        }
      ],
      "source": [
        "# подберите оптимальные параметры с помощью gridsearch\n",
        "\n",
        "grid = {'min_samples_split': [2, 5, 7, 10], \n",
        "        'max_depth': [3, 5, 7]}\n",
        "\n",
        "grid_search = GridSearchCV(estimator=tree.DecisionTreeClassifier(random_state=42), param_grid=grid)  \n",
        "\n",
        "%time grid_search.fit(X_train_scaled, y_train) \n",
        "y_test_pred = grid_search.predict(X_test_scaled)\n",
        "print('f1_score на тестовой выборке: {:.2f}'.format(metrics.f1_score(y_test, y_test_pred)))\n",
        "print(\"Наилучшие значения гиперпараметров: {}\".format(grid_search.best_params_))\n"
      ]
    },
    {
      "cell_type": "markdown",
      "id": "ed0fc831",
      "metadata": {
        "id": "ed0fc831"
      },
      "source": [
        "# Часть 5: Решение задачи классификации: ансамбли моделей и построение прогноза"
      ]
    },
    {
      "cell_type": "markdown",
      "id": "f9e36ff2",
      "metadata": {
        "id": "f9e36ff2"
      },
      "source": [
        "### Задание 1"
      ]
    },
    {
      "cell_type": "code",
      "execution_count": null,
      "id": "e708e3fe",
      "metadata": {
        "colab": {
          "base_uri": "https://localhost:8080/"
        },
        "id": "e708e3fe",
        "outputId": "c5f0e322-04ef-4b35-f550-28921e773829"
      },
      "outputs": [
        {
          "output_type": "stream",
          "name": "stdout",
          "text": [
            "Accuracy(test): 0.84\n",
            "Recall(test): 0.86\n",
            "f1_score на тестовой выборке: 0.836\n",
            "              precision    recall  f1-score   support\n",
            "\n",
            "           0       0.87      0.83      0.85      1790\n",
            "           1       0.81      0.86      0.84      1545\n",
            "\n",
            "    accuracy                           0.84      3335\n",
            "   macro avg       0.84      0.84      0.84      3335\n",
            "weighted avg       0.85      0.84      0.84      3335\n",
            "\n"
          ]
        }
      ],
      "source": [
        "# обучите на ваших данных случайный лес\n",
        "rf = ensemble.RandomForestClassifier(criterion = 'gini',\n",
        "                                     min_samples_leaf = 5,\n",
        "                                     max_depth = 10,\n",
        "                                     random_state=42)\n",
        "rf.fit(X_train_scaled, y_train)\n",
        "y_test_pred = rf.predict(X_test_scaled)\n",
        "\n",
        "print('Accuracy(test): {:.2f}'.format(metrics.accuracy_score(y_test, y_test_pred)))\n",
        "print('Recall(test): {:.2f}'.format(metrics.recall_score(y_test, y_test_pred)))\n",
        "print('f1_score на тестовой выборке: {:.3f}'.format(metrics.f1_score(y_test, y_test_pred)))\n",
        "print(metrics.classification_report(y_test, y_test_pred))"
      ]
    },
    {
      "cell_type": "markdown",
      "id": "71d7b13d",
      "metadata": {
        "id": "71d7b13d"
      },
      "source": [
        "### Задание 2"
      ]
    },
    {
      "cell_type": "code",
      "execution_count": null,
      "id": "99f12dfe",
      "metadata": {
        "colab": {
          "base_uri": "https://localhost:8080/"
        },
        "id": "99f12dfe",
        "outputId": "69b5ba0d-9ffe-4eec-c9db-a37b50267756"
      },
      "outputs": [
        {
          "output_type": "stream",
          "name": "stdout",
          "text": [
            "Accuracy(test): 0.85\n",
            "Recall(test): 0.87\n",
            "f1_score на тестовой выборке: 0.845\n",
            "              precision    recall  f1-score   support\n",
            "\n",
            "           0       0.88      0.84      0.86      1790\n",
            "           1       0.82      0.87      0.84      1545\n",
            "\n",
            "    accuracy                           0.85      3335\n",
            "   macro avg       0.85      0.85      0.85      3335\n",
            "weighted avg       0.85      0.85      0.85      3335\n",
            "\n"
          ]
        }
      ],
      "source": [
        "# используйте для классификации градиентный бустинг и сравните качество со случайным лесом\n",
        "\n",
        "gb = ensemble.GradientBoostingClassifier(\n",
        "    learning_rate=0.05,\n",
        "    n_estimators=300,\n",
        "    min_samples_leaf=5,\n",
        "    max_depth=5,\n",
        "    random_state=42)\n",
        "\n",
        "gb.fit(X_train_scaled, y_train)\n",
        "y_test_pred = gb.predict(X_test_scaled)\n",
        "\n",
        "print('Accuracy(test): {:.2f}'.format(metrics.accuracy_score(y_test, y_test_pred)))\n",
        "print('Recall(test): {:.2f}'.format(metrics.recall_score(y_test, y_test_pred)))\n",
        "print('f1_score на тестовой выборке: {:.3f}'.format(metrics.f1_score(y_test, y_test_pred)))\n",
        "print(metrics.classification_report(y_test, y_test_pred))"
      ]
    },
    {
      "cell_type": "markdown",
      "source": [
        "### Ответ:\n",
        "\n",
        "Если посмотреть известные вам метрики в целом, модель \"Случайный лес\" даёт более качественный прогноз."
      ],
      "metadata": {
        "id": "dy_2P1euX_uL"
      },
      "id": "dy_2P1euX_uL"
    },
    {
      "cell_type": "markdown",
      "id": "b08718ae",
      "metadata": {
        "id": "b08718ae"
      },
      "source": [
        "### Задание3\n"
      ]
    },
    {
      "cell_type": "code",
      "execution_count": null,
      "id": "0bd42fb0",
      "metadata": {
        "colab": {
          "base_uri": "https://localhost:8080/"
        },
        "id": "0bd42fb0",
        "outputId": "bda475e2-c1dd-4453-83c0-b3d6abf05f30"
      },
      "outputs": [
        {
          "output_type": "stream",
          "name": "stdout",
          "text": [
            "Precision (test): 0.83\n",
            "f1_score на тестовой выборке: 0.840\n",
            "              precision    recall  f1-score   support\n",
            "\n",
            "           0       0.87      0.84      0.86      1790\n",
            "           1       0.83      0.86      0.84      1545\n",
            "\n",
            "    accuracy                           0.85      3335\n",
            "   macro avg       0.85      0.85      0.85      3335\n",
            "weighted avg       0.85      0.85      0.85      3335\n",
            "\n"
          ]
        }
      ],
      "source": [
        "# объедините уже известные вам алгоритмы с помощью стекинга\n",
        "estimators = [\n",
        "    ('dt', tree.DecisionTreeClassifier(criterion='entropy', random_state=42)),\n",
        "    ('rf', ensemble.RandomForestClassifier(random_state=42)),\n",
        "    ('gb', ensemble.HistGradientBoostingClassifier(learning_rate=0.05, min_samples_leaf=5, max_depth=5, random_state=42))\n",
        "]\n",
        "\n",
        "stack = ensemble.StackingClassifier(estimators=estimators, final_estimator=linear_model.LogisticRegression(solver='sag', max_iter=1000, random_state=42))\n",
        "\n",
        "stack.fit(X_train_scaled, y_train)\n",
        "y_test_pred = stack.predict(X_test_scaled)\n",
        "\n",
        "print('Precision (test): {:.2f}'.format(metrics.precision_score(y_test, y_test_pred)))\n",
        "print('f1_score на тестовой выборке: {:.3f}'.format(metrics.f1_score(y_test, y_test_pred)))\n",
        "print(metrics.classification_report(y_test, y_test_pred))"
      ]
    },
    {
      "cell_type": "markdown",
      "id": "6247a5fb",
      "metadata": {
        "id": "6247a5fb"
      },
      "source": [
        "### Задание 4"
      ]
    },
    {
      "cell_type": "code",
      "execution_count": null,
      "id": "35de769c",
      "metadata": {
        "colab": {
          "base_uri": "https://localhost:8080/",
          "height": 351
        },
        "id": "35de769c",
        "outputId": "e2a54831-3091-40de-b737-1e60881a43f1"
      },
      "outputs": [
        {
          "output_type": "display_data",
          "data": {
            "text/plain": [
              "<Figure size 936x360 with 1 Axes>"
            ],
            "image/png": "[encoded data removed]"
          },
          "metadata": {
            "needs_background": "light"
          }
        }
      ],
      "source": [
        "fig, ax = plt.subplots(figsize=(13, 5))\n",
        "feature = X.columns\n",
        "feature_importances = rf.feature_importances_\n",
        "imp = pd.DataFrame(index=X.columns, data=rf.feature_importances_, columns=['value']).sort_values(by='value', ascending=False)[:7]\n",
        "sns.barplot(x=list(imp.index), y=imp.value, ax=ax)\n",
        "ax.set_title('Bar plot feature importances')\n",
        "ax.set_xlabel('Features')\n",
        "ax.set_ylabel('Importances');"
      ]
    },
    {
      "cell_type": "markdown",
      "source": [
        "###Ответ:\n",
        "* Самым важным является признак duration, отражающий продолжительность контакта. Очевидно, что чем дольше идет разговор с представителем банка, тем выше вероясность убедить клиента\n",
        "* Вторым по важности идет признак poutcome_success, показывающий результат прошлой маркетинговой камании. Данные говорят о том, что клиенты уже поучаствовавшие в кампании раньше, охотнее принимают решение относительно новой кампании\n",
        "* Признак contact_unknown говорит о том, что контакт осуществлялся не по телефону (возможно в офисе банка или это особая группа клиентов), и это имеет тоже важное значение для целевой переменной"
      ],
      "metadata": {
        "id": "NqxIPWTahEp8"
      },
      "id": "NqxIPWTahEp8"
    },
    {
      "cell_type": "markdown",
      "id": "96974dda",
      "metadata": {
        "id": "96974dda"
      },
      "source": [
        "### Задание 5"
      ]
    },
    {
      "cell_type": "markdown",
      "source": [
        "### Установка пакета"
      ],
      "metadata": {
        "id": "HIMVB0cgjIGp"
      },
      "id": "HIMVB0cgjIGp"
    },
    {
      "cell_type": "code",
      "source": [
        "!pip install optuna"
      ],
      "metadata": {
        "colab": {
          "base_uri": "https://localhost:8080/"
        },
        "id": "9lmRy_KijBze",
        "outputId": "04aa1e58-be73-4376-d44b-14d41b855bfd"
      },
      "id": "9lmRy_KijBze",
      "execution_count": null,
      "outputs": [
        {
          "output_type": "stream",
          "name": "stdout",
          "text": [
            "Looking in indexes: https://pypi.org/simple, https://us-python.pkg.dev/colab-wheels/public/simple/\n",
            "Requirement already satisfied: optuna in /usr/local/lib/python3.7/dist-packages (2.10.0)\n",
            "Requirement already satisfied: PyYAML in /usr/local/lib/python3.7/dist-packages (from optuna) (3.13)\n",
            "Requirement already satisfied: alembic in /usr/local/lib/python3.7/dist-packages (from optuna) (1.7.7)\n",
            "Requirement already satisfied: scipy!=1.4.0 in /usr/local/lib/python3.7/dist-packages (from optuna) (1.4.1)\n",
            "Requirement already satisfied: tqdm in /usr/local/lib/python3.7/dist-packages (from optuna) (4.64.0)\n",
            "Requirement already satisfied: cmaes>=0.8.2 in /usr/local/lib/python3.7/dist-packages (from optuna) (0.8.2)\n",
            "Requirement already satisfied: colorlog in /usr/local/lib/python3.7/dist-packages (from optuna) (6.6.0)\n",
            "Requirement already satisfied: numpy in /usr/local/lib/python3.7/dist-packages (from optuna) (1.21.6)\n",
            "Requirement already satisfied: sqlalchemy>=1.1.0 in /usr/local/lib/python3.7/dist-packages (from optuna) (1.4.36)\n",
            "Requirement already satisfied: packaging>=20.0 in /usr/local/lib/python3.7/dist-packages (from optuna) (21.3)\n",
            "Requirement already satisfied: cliff in /usr/local/lib/python3.7/dist-packages (from optuna) (3.10.1)\n",
            "Requirement already satisfied: pyparsing!=3.0.5,>=2.0.2 in /usr/local/lib/python3.7/dist-packages (from packaging>=20.0->optuna) (3.0.9)\n",
            "Requirement already satisfied: greenlet!=0.4.17 in /usr/local/lib/python3.7/dist-packages (from sqlalchemy>=1.1.0->optuna) (1.1.2)\n",
            "Requirement already satisfied: importlib-metadata in /usr/local/lib/python3.7/dist-packages (from sqlalchemy>=1.1.0->optuna) (4.11.3)\n",
            "Requirement already satisfied: Mako in /usr/local/lib/python3.7/dist-packages (from alembic->optuna) (1.2.0)\n",
            "Requirement already satisfied: importlib-resources in /usr/local/lib/python3.7/dist-packages (from alembic->optuna) (5.7.1)\n",
            "Requirement already satisfied: stevedore>=2.0.1 in /usr/local/lib/python3.7/dist-packages (from cliff->optuna) (3.5.0)\n",
            "Requirement already satisfied: PrettyTable>=0.7.2 in /usr/local/lib/python3.7/dist-packages (from cliff->optuna) (3.3.0)\n",
            "Requirement already satisfied: cmd2>=1.0.0 in /usr/local/lib/python3.7/dist-packages (from cliff->optuna) (2.4.1)\n",
            "Requirement already satisfied: autopage>=0.4.0 in /usr/local/lib/python3.7/dist-packages (from cliff->optuna) (0.5.0)\n",
            "Requirement already satisfied: pbr!=2.1.0,>=2.0.0 in /usr/local/lib/python3.7/dist-packages (from cliff->optuna) (5.9.0)\n",
            "Requirement already satisfied: attrs>=16.3.0 in /usr/local/lib/python3.7/dist-packages (from cmd2>=1.0.0->cliff->optuna) (21.4.0)\n",
            "Requirement already satisfied: typing-extensions in /usr/local/lib/python3.7/dist-packages (from cmd2>=1.0.0->cliff->optuna) (4.2.0)\n",
            "Requirement already satisfied: wcwidth>=0.1.7 in /usr/local/lib/python3.7/dist-packages (from cmd2>=1.0.0->cliff->optuna) (0.2.5)\n",
            "Requirement already satisfied: pyperclip>=1.6 in /usr/local/lib/python3.7/dist-packages (from cmd2>=1.0.0->cliff->optuna) (1.8.2)\n",
            "Requirement already satisfied: zipp>=0.5 in /usr/local/lib/python3.7/dist-packages (from importlib-metadata->sqlalchemy>=1.1.0->optuna) (3.8.0)\n",
            "Requirement already satisfied: MarkupSafe>=0.9.2 in /usr/local/lib/python3.7/dist-packages (from Mako->alembic->optuna) (2.0.1)\n"
          ]
        }
      ]
    },
    {
      "cell_type": "markdown",
      "source": [
        "###."
      ],
      "metadata": {
        "id": "Fh2IRUbUjWCu"
      },
      "id": "Fh2IRUbUjWCu"
    },
    {
      "cell_type": "code",
      "execution_count": null,
      "id": "c48e29e9",
      "metadata": {
        "colab": {
          "base_uri": "https://localhost:8080/"
        },
        "id": "c48e29e9",
        "outputId": "99bbd5e8-f9a3-4384-af5e-aac868d3b318"
      },
      "outputs": [
        {
          "output_type": "stream",
          "name": "stdout",
          "text": [
            "Версия Optuna: 2.10.0\n"
          ]
        }
      ],
      "source": [
        "import optuna\n",
        "# реализуйте оптимизацию гиперпараметров с помощью Optuna\n",
        "print(\"Версия Optuna: {}\".format(optuna.__version__))"
      ]
    },
    {
      "cell_type": "code",
      "source": [
        "def optuna_rf(trial):\n",
        "  n_estimators = trial.suggest_int('n_estimators', 100, 200, 1)\n",
        "  max_depth = trial.suggest_int('max_depth', 10, 30, 1)\n",
        "  min_samples_leaf = trial.suggest_int('min_samples_leaf', 2, 10, 1)\n",
        "\n",
        "  model = ensemble.RandomForestClassifier(n_estimators=n_estimators,\n",
        "                                          max_depth=max_depth,\n",
        "                                          min_samples_leaf=min_samples_leaf,\n",
        "                                          random_state=42)\n",
        "  model.fit(X_train_scaled, y_train)\n",
        "  score = metrics.f1_score(y_train, model.predict(X_train_scaled))\n",
        "\n",
        "  return score"
      ],
      "metadata": {
        "id": "M9utpGhMi94M"
      },
      "id": "M9utpGhMi94M",
      "execution_count": null,
      "outputs": []
    },
    {
      "cell_type": "code",
      "source": [
        "%%time\n",
        "study = optuna.create_study(study_name=\"RandomForestClassifier\", direction=\"maximize\")\n",
        "study.optimize(optuna_rf, n_trials=20)"
      ],
      "metadata": {
        "colab": {
          "base_uri": "https://localhost:8080/"
        },
        "id": "kkxRh3Raj-fT",
        "outputId": "1e02b8e1-1b9d-40ee-9ab9-1c30589a41c4"
      },
      "id": "kkxRh3Raj-fT",
      "execution_count": null,
      "outputs": [
        {
          "output_type": "stream",
          "name": "stderr",
          "text": [
            "\u001b[32m[I 2022-05-26 04:17:24,600]\u001b[0m A new study created in memory with name: RandomForestClassifier\u001b[0m\n",
            "\u001b[32m[I 2022-05-26 04:17:25,943]\u001b[0m Trial 0 finished with value: 0.8810001543448063 and parameters: {'n_estimators': 143, 'max_depth': 18, 'min_samples_leaf': 7}. Best is trial 0 with value: 0.8810001543448063.\u001b[0m\n",
            "\u001b[32m[I 2022-05-26 04:17:27,010]\u001b[0m Trial 1 finished with value: 0.8838928241453649 and parameters: {'n_estimators': 114, 'max_depth': 28, 'min_samples_leaf': 7}. Best is trial 1 with value: 0.8838928241453649.\u001b[0m\n",
            "\u001b[32m[I 2022-05-26 04:17:29,691]\u001b[0m Trial 2 finished with value: 0.8913244828650818 and parameters: {'n_estimators': 200, 'max_depth': 26, 'min_samples_leaf': 6}. Best is trial 2 with value: 0.8913244828650818.\u001b[0m\n",
            "\u001b[32m[I 2022-05-26 04:17:31,840]\u001b[0m Trial 3 finished with value: 0.8848466163095421 and parameters: {'n_estimators': 142, 'max_depth': 22, 'min_samples_leaf': 7}. Best is trial 2 with value: 0.8913244828650818.\u001b[0m\n",
            "\u001b[32m[I 2022-05-26 04:17:34,087]\u001b[0m Trial 4 finished with value: 0.8824888341290621 and parameters: {'n_estimators': 192, 'max_depth': 29, 'min_samples_leaf': 7}. Best is trial 2 with value: 0.8913244828650818.\u001b[0m\n",
            "\u001b[32m[I 2022-05-26 04:17:35,859]\u001b[0m Trial 5 finished with value: 0.8802588996763754 and parameters: {'n_estimators': 148, 'max_depth': 25, 'min_samples_leaf': 8}. Best is trial 2 with value: 0.8913244828650818.\u001b[0m\n",
            "\u001b[32m[I 2022-05-26 04:17:39,022]\u001b[0m Trial 6 finished with value: 0.9040161265312452 and parameters: {'n_estimators': 188, 'max_depth': 14, 'min_samples_leaf': 3}. Best is trial 6 with value: 0.9040161265312452.\u001b[0m\n",
            "\u001b[32m[I 2022-05-26 04:17:41,328]\u001b[0m Trial 7 finished with value: 0.8894720592775548 and parameters: {'n_estimators': 129, 'max_depth': 29, 'min_samples_leaf': 6}. Best is trial 6 with value: 0.9040161265312452.\u001b[0m\n",
            "\u001b[32m[I 2022-05-26 04:17:44,163]\u001b[0m Trial 8 finished with value: 0.9206398509085263 and parameters: {'n_estimators': 175, 'max_depth': 21, 'min_samples_leaf': 3}. Best is trial 8 with value: 0.9206398509085263.\u001b[0m\n",
            "\u001b[32m[I 2022-05-26 04:17:46,330]\u001b[0m Trial 9 finished with value: 0.8848522167487685 and parameters: {'n_estimators': 123, 'max_depth': 26, 'min_samples_leaf': 7}. Best is trial 8 with value: 0.9206398509085263.\u001b[0m\n",
            "\u001b[32m[I 2022-05-26 04:17:48,583]\u001b[0m Trial 10 finished with value: 0.8793532338308457 and parameters: {'n_estimators': 172, 'max_depth': 10, 'min_samples_leaf': 2}. Best is trial 8 with value: 0.9206398509085263.\u001b[0m\n",
            "\u001b[32m[I 2022-05-26 04:17:51,486]\u001b[0m Trial 11 finished with value: 0.9129623873173763 and parameters: {'n_estimators': 176, 'max_depth': 16, 'min_samples_leaf': 3}. Best is trial 8 with value: 0.9206398509085263.\u001b[0m\n",
            "\u001b[32m[I 2022-05-26 04:17:54,222]\u001b[0m Trial 12 finished with value: 0.9060226041182846 and parameters: {'n_estimators': 168, 'max_depth': 19, 'min_samples_leaf': 4}. Best is trial 8 with value: 0.9206398509085263.\u001b[0m\n",
            "\u001b[32m[I 2022-05-26 04:17:56,445]\u001b[0m Trial 13 finished with value: 0.8953650596806696 and parameters: {'n_estimators': 169, 'max_depth': 15, 'min_samples_leaf': 4}. Best is trial 8 with value: 0.9206398509085263.\u001b[0m\n",
            "\u001b[32m[I 2022-05-26 04:17:58,482]\u001b[0m Trial 14 finished with value: 0.9487980018732438 and parameters: {'n_estimators': 180, 'max_depth': 22, 'min_samples_leaf': 2}. Best is trial 14 with value: 0.9487980018732438.\u001b[0m\n",
            "\u001b[32m[I 2022-05-26 04:17:59,580]\u001b[0m Trial 15 finished with value: 0.8731917513080949 and parameters: {'n_estimators': 159, 'max_depth': 22, 'min_samples_leaf': 10}. Best is trial 14 with value: 0.9487980018732438.\u001b[0m\n",
            "\u001b[32m[I 2022-05-26 04:18:01,157]\u001b[0m Trial 16 finished with value: 0.9477786438035853 and parameters: {'n_estimators': 186, 'max_depth': 23, 'min_samples_leaf': 2}. Best is trial 14 with value: 0.9487980018732438.\u001b[0m\n",
            "\u001b[32m[I 2022-05-26 04:18:02,699]\u001b[0m Trial 17 finished with value: 0.9480904130943102 and parameters: {'n_estimators': 185, 'max_depth': 23, 'min_samples_leaf': 2}. Best is trial 14 with value: 0.9487980018732438.\u001b[0m\n",
            "\u001b[32m[I 2022-05-26 04:18:03,929]\u001b[0m Trial 18 finished with value: 0.9072611859420963 and parameters: {'n_estimators': 158, 'max_depth': 24, 'min_samples_leaf': 4}. Best is trial 14 with value: 0.9487980018732438.\u001b[0m\n",
            "\u001b[32m[I 2022-05-26 04:18:05,402]\u001b[0m Trial 19 finished with value: 0.8949079089924161 and parameters: {'n_estimators': 200, 'max_depth': 18, 'min_samples_leaf': 5}. Best is trial 14 with value: 0.9487980018732438.\u001b[0m\n"
          ]
        },
        {
          "output_type": "stream",
          "name": "stdout",
          "text": [
            "CPU times: user 32.3 s, sys: 150 ms, total: 32.4 s\n",
            "Wall time: 40.8 s\n"
          ]
        }
      ]
    },
    {
      "cell_type": "code",
      "source": [
        "print(\"Наилучшие значения гиперпараметров {}\".format(study.best_params))\n",
        "print(\"f1_score на обучающем наборе: {:.2f}\".format(study.best_value))"
      ],
      "metadata": {
        "colab": {
          "base_uri": "https://localhost:8080/"
        },
        "id": "ppFXI9IxkEB2",
        "outputId": "8eef3a90-115d-4748-b6a0-016cf09f53aa"
      },
      "id": "ppFXI9IxkEB2",
      "execution_count": null,
      "outputs": [
        {
          "output_type": "stream",
          "name": "stdout",
          "text": [
            "Наилучшие значения гиперпараметров {'n_estimators': 180, 'max_depth': 22, 'min_samples_leaf': 2}\n",
            "f1_score на обучающем наборе: 0.95\n"
          ]
        }
      ]
    },
    {
      "cell_type": "code",
      "source": [
        "model = ensemble.RandomForestClassifier(**study.best_params,random_state=42)\n",
        "model.fit(X_train_scaled, y_train)\n",
        "y_test_pred = model.predict(X_test_scaled)\n",
        "print('f1_score на тестовом наборе: {:.2f}'.format(metrics.f1_score(y_test, y_test_pred)))\n",
        "print('Accuracy на тестовом наборе: {:.2f}'.format(metrics.accuracy_score(y_test, y_test_pred)))"
      ],
      "metadata": {
        "colab": {
          "base_uri": "https://localhost:8080/"
        },
        "id": "gRQRLBEOkKPp",
        "outputId": "fc8cb118-c7bf-4060-cba5-4c886729885f"
      },
      "id": "gRQRLBEOkKPp",
      "execution_count": null,
      "outputs": [
        {
          "output_type": "stream",
          "name": "stdout",
          "text": [
            "f1_score на тестовом наборе: 0.85\n",
            "Accuracy на тестовом наборе: 0.85\n"
          ]
        }
      ]
    },
    {
      "cell_type": "markdown",
      "source": [
        "###Ответ:\n",
        "По сравнению с предыдущими моделями результат улучшился!"
      ],
      "metadata": {
        "id": "_93eZRQek7bc"
      },
      "id": "_93eZRQek7bc"
    },
    {
      "cell_type": "markdown",
      "source": [
        "[EOF]"
      ],
      "metadata": {
        "id": "lo93TQLVlC1h"
      },
      "id": "lo93TQLVlC1h"
    }
  ],
  "metadata": {
    "kernelspec": {
      "display_name": "Python 3 (ipykernel)",
      "language": "python",
      "name": "python3"
    },
    "language_info": {
      "codemirror_mode": {
        "name": "ipython",
        "version": 3
      },
      "file_extension": ".py",
      "mimetype": "text/x-python",
      "name": "python",
      "nbconvert_exporter": "python",
      "pygments_lexer": "ipython3",
      "version": "3.9.7"
    },
    "colab": {
      "name": "Project_4_ML.ipynb",
      "provenance": [],
      "collapsed_sections": [
        "71559b60",
        "7c5e31b2",
        "6366f059",
        "8fcf4fcd",
        "6de63fd7",
        "1097ec42",
        "02af77c6",
        "5d22b8cd",
        "472cff5b",
        "9c32e3aa",
        "5f20762f",
        "0841c685",
        "a521e204",
        "dfd805c0",
        "HIMVB0cgjIGp"
      ],
      "include_colab_link": true
    }
  },
  "nbformat": 4,
  "nbformat_minor": 5
}